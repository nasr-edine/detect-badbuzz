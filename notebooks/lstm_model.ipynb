{
 "cells": [
  {
   "cell_type": "code",
   "execution_count": 1,
   "id": "69a2a38b-a873-4181-91d5-2e8abaaf8e8e",
   "metadata": {},
   "outputs": [
    {
     "name": "stderr",
     "output_type": "stream",
     "text": [
      "2023-10-04 12:57:57.676841: I tensorflow/core/platform/cpu_feature_guard.cc:182] This TensorFlow binary is optimized to use available CPU instructions in performance-critical operations.\n",
      "To enable the following instructions: AVX2 FMA, in other operations, rebuild TensorFlow with the appropriate compiler flags.\n",
      "[nltk_data] Downloading package punkt to /Users/drainasr-\n",
      "[nltk_data]     edine/nltk_data...\n",
      "[nltk_data]   Package punkt is already up-to-date!\n",
      "[nltk_data] Downloading package stopwords to /Users/drainasr-\n",
      "[nltk_data]     edine/nltk_data...\n",
      "[nltk_data]   Package stopwords is already up-to-date!\n",
      "[nltk_data] Downloading package wordnet to /Users/drainasr-\n",
      "[nltk_data]     edine/nltk_data...\n",
      "[nltk_data]   Package wordnet is already up-to-date!\n"
     ]
    }
   ],
   "source": [
    "import re\n",
    "import string\n",
    "import glob\n",
    "\n",
    "import os\n",
    "import sys\n",
    "import pandas as pd\n",
    "import numpy as np\n",
    "# import gensim\n",
    "import zipfile\n",
    "import urllib.request\n",
    "import tensorflow as tf\n",
    "\n",
    "from sklearn.manifold import TSNE\n",
    "import matplotlib.pyplot as plt\n",
    "\n",
    "import joblib\n",
    "import pandas as pd\n",
    "\n",
    "from unidecode import unidecode\n",
    "from nltk.tokenize import word_tokenize\n",
    "from nltk.corpus import stopwords\n",
    "# import spacy\n",
    "import nltk\n",
    "\n",
    "sys.path.append(os.path.abspath('..'))\n",
    "from text_processing_utils import preprocess_text\n",
    "\n",
    "from tensorflow.keras.models import Sequential\n",
    "from tensorflow.keras.layers import Embedding, Dropout, LSTM, Dense\n",
    "\n",
    "output_dir = \"../data/sentiment140\"\n",
    "DATASET_COLUMNS = [\"target\", \"ids\", \"date\", \"flag\", \"user\", \"text\"]\n",
    "DATASET_ENCODING = \"ISO-8859-1\""
   ]
  },
  {
   "cell_type": "code",
   "execution_count": 2,
   "id": "c411906e-835b-40b4-a566-9a9492ad0a9a",
   "metadata": {},
   "outputs": [
    {
     "name": "stdout",
     "output_type": "stream",
     "text": [
      "../data/sentiment140/debug16000.csv\n",
      "../data/sentiment140/debug1600.csv\n",
      "../data/sentiment140/training.1600000.processed.noemoticon.csv\n",
      "../data/sentiment140/debug.csv\n",
      "../data/sentiment140/debug160000.csv\n"
     ]
    }
   ],
   "source": [
    "# Use glob to get a list of CSV files in the directory\n",
    "csv_files = glob.glob(f'{output_dir}/*.csv')\n",
    "\n",
    "# Now, csv_files contains a list of paths to all CSV files in the directory\n",
    "for csv_file in csv_files:\n",
    "    print(csv_file)"
   ]
  },
  {
   "cell_type": "code",
   "execution_count": 3,
   "id": "441b6542-a6ca-4335-9444-e951b18114f9",
   "metadata": {},
   "outputs": [
    {
     "data": {
      "text/html": [
       "<div>\n",
       "<style scoped>\n",
       "    .dataframe tbody tr th:only-of-type {\n",
       "        vertical-align: middle;\n",
       "    }\n",
       "\n",
       "    .dataframe tbody tr th {\n",
       "        vertical-align: top;\n",
       "    }\n",
       "\n",
       "    .dataframe thead th {\n",
       "        text-align: right;\n",
       "    }\n",
       "</style>\n",
       "<table border=\"1\" class=\"dataframe\">\n",
       "  <thead>\n",
       "    <tr style=\"text-align: right;\">\n",
       "      <th></th>\n",
       "      <th>target</th>\n",
       "      <th>ids</th>\n",
       "      <th>date</th>\n",
       "      <th>flag</th>\n",
       "      <th>user</th>\n",
       "      <th>text</th>\n",
       "    </tr>\n",
       "  </thead>\n",
       "  <tbody>\n",
       "    <tr>\n",
       "      <th>0</th>\n",
       "      <td>4</td>\n",
       "      <td>1957099063</td>\n",
       "      <td>Thu May 28 23:30:53 PDT 2009</td>\n",
       "      <td>NO_QUERY</td>\n",
       "      <td>Dopplertom</td>\n",
       "      <td>@addyx21 My imaginary girlfriend and We Harras...</td>\n",
       "    </tr>\n",
       "    <tr>\n",
       "      <th>1</th>\n",
       "      <td>0</td>\n",
       "      <td>2063777023</td>\n",
       "      <td>Sun Jun 07 04:01:58 PDT 2009</td>\n",
       "      <td>NO_QUERY</td>\n",
       "      <td>anapostrero</td>\n",
       "      <td>hey stephen, i miss you and your undershirt  a...</td>\n",
       "    </tr>\n",
       "    <tr>\n",
       "      <th>2</th>\n",
       "      <td>0</td>\n",
       "      <td>1996566132</td>\n",
       "      <td>Mon Jun 01 15:18:05 PDT 2009</td>\n",
       "      <td>NO_QUERY</td>\n",
       "      <td>ayaueda</td>\n",
       "      <td>ya no pude ver el zapping zone completo...  ashsh</td>\n",
       "    </tr>\n",
       "  </tbody>\n",
       "</table>\n",
       "</div>"
      ],
      "text/plain": [
       "   target         ids                          date      flag         user  \\\n",
       "0       4  1957099063  Thu May 28 23:30:53 PDT 2009  NO_QUERY   Dopplertom   \n",
       "1       0  2063777023  Sun Jun 07 04:01:58 PDT 2009  NO_QUERY  anapostrero   \n",
       "2       0  1996566132  Mon Jun 01 15:18:05 PDT 2009  NO_QUERY      ayaueda   \n",
       "\n",
       "                                                text  \n",
       "0  @addyx21 My imaginary girlfriend and We Harras...  \n",
       "1  hey stephen, i miss you and your undershirt  a...  \n",
       "2  ya no pude ver el zapping zone completo...  ashsh  "
      ]
     },
     "execution_count": 3,
     "metadata": {},
     "output_type": "execute_result"
    }
   ],
   "source": [
    "# Read the CSV file into a DataFrame with the specified encoding and column names\n",
    "df = pd.read_csv(csv_files[0], encoding=DATASET_ENCODING)\n",
    "# df = pd.read_csv(csv_files[0], encoding=DATASET_ENCODING, names=DATASET_COLUMNS)\n",
    "\n",
    "# Display the first few rows of the DataFrame to check the data\n",
    "df.head(3)\n"
   ]
  },
  {
   "cell_type": "code",
   "execution_count": 4,
   "id": "9b76069e-641b-4948-946e-4141e40c5c1a",
   "metadata": {},
   "outputs": [
    {
     "name": "stdout",
     "output_type": "stream",
     "text": [
      "<class 'pandas.core.frame.DataFrame'>\n",
      "RangeIndex: 16000 entries, 0 to 15999\n",
      "Data columns (total 6 columns):\n",
      " #   Column  Non-Null Count  Dtype \n",
      "---  ------  --------------  ----- \n",
      " 0   target  16000 non-null  int64 \n",
      " 1   ids     16000 non-null  int64 \n",
      " 2   date    16000 non-null  object\n",
      " 3   flag    16000 non-null  object\n",
      " 4   user    16000 non-null  object\n",
      " 5   text    16000 non-null  object\n",
      "dtypes: int64(2), object(4)\n",
      "memory usage: 750.1+ KB\n"
     ]
    }
   ],
   "source": [
    "df.info()"
   ]
  },
  {
   "cell_type": "code",
   "execution_count": 5,
   "id": "c4163b8f-24fe-4325-8120-50a5b40ae56c",
   "metadata": {
    "scrolled": true
   },
   "outputs": [],
   "source": [
    "df[\"target\"] = df[\"target\"].replace(4, 1)\n",
    "df['text'] = df['text'].apply(preprocess_text)\n",
    "df = df[['text', 'target']]"
   ]
  },
  {
   "cell_type": "code",
   "execution_count": 6,
   "id": "a26a3dfd-bb07-4d6f-87d0-99e5820181ae",
   "metadata": {},
   "outputs": [
    {
     "data": {
      "text/html": [
       "<div>\n",
       "<style scoped>\n",
       "    .dataframe tbody tr th:only-of-type {\n",
       "        vertical-align: middle;\n",
       "    }\n",
       "\n",
       "    .dataframe tbody tr th {\n",
       "        vertical-align: top;\n",
       "    }\n",
       "\n",
       "    .dataframe thead th {\n",
       "        text-align: right;\n",
       "    }\n",
       "</style>\n",
       "<table border=\"1\" class=\"dataframe\">\n",
       "  <thead>\n",
       "    <tr style=\"text-align: right;\">\n",
       "      <th></th>\n",
       "      <th>text</th>\n",
       "      <th>target</th>\n",
       "    </tr>\n",
       "  </thead>\n",
       "  <tbody>\n",
       "    <tr>\n",
       "      <th>0</th>\n",
       "      <td>imaginary girlfriend harrassing people class lmao</td>\n",
       "      <td>1</td>\n",
       "    </tr>\n",
       "    <tr>\n",
       "      <th>1</th>\n",
       "      <td>hey stephen miss undershirt ohso kewl shoe</td>\n",
       "      <td>0</td>\n",
       "    </tr>\n",
       "    <tr>\n",
       "      <th>2</th>\n",
       "      <td>ya pude ver el zapping zone completo ashsh</td>\n",
       "      <td>0</td>\n",
       "    </tr>\n",
       "    <tr>\n",
       "      <th>3</th>\n",
       "      <td>morning everyone</td>\n",
       "      <td>1</td>\n",
       "    </tr>\n",
       "    <tr>\n",
       "      <th>4</th>\n",
       "      <td>heyy watchin hill hope jayde worked everythin ...</td>\n",
       "      <td>1</td>\n",
       "    </tr>\n",
       "    <tr>\n",
       "      <th>5</th>\n",
       "      <td>yep london week learning bn delicious turkish ...</td>\n",
       "      <td>1</td>\n",
       "    </tr>\n",
       "    <tr>\n",
       "      <th>6</th>\n",
       "      <td>wan na see transformer midnight dayum lol</td>\n",
       "      <td>0</td>\n",
       "    </tr>\n",
       "    <tr>\n",
       "      <th>7</th>\n",
       "      <td>well fun getting pool ready intense workout ta...</td>\n",
       "      <td>1</td>\n",
       "    </tr>\n",
       "    <tr>\n",
       "      <th>8</th>\n",
       "      <td>gave tom bradley high school student cave demo...</td>\n",
       "      <td>1</td>\n",
       "    </tr>\n",
       "    <tr>\n",
       "      <th>9</th>\n",
       "      <td>hour nap mean staying late</td>\n",
       "      <td>1</td>\n",
       "    </tr>\n",
       "  </tbody>\n",
       "</table>\n",
       "</div>"
      ],
      "text/plain": [
       "                                                text  target\n",
       "0  imaginary girlfriend harrassing people class lmao       1\n",
       "1         hey stephen miss undershirt ohso kewl shoe       0\n",
       "2         ya pude ver el zapping zone completo ashsh       0\n",
       "3                                   morning everyone       1\n",
       "4  heyy watchin hill hope jayde worked everythin ...       1\n",
       "5  yep london week learning bn delicious turkish ...       1\n",
       "6          wan na see transformer midnight dayum lol       0\n",
       "7  well fun getting pool ready intense workout ta...       1\n",
       "8  gave tom bradley high school student cave demo...       1\n",
       "9                         hour nap mean staying late       1"
      ]
     },
     "execution_count": 6,
     "metadata": {},
     "output_type": "execute_result"
    }
   ],
   "source": [
    "df.head(10)"
   ]
  },
  {
   "cell_type": "code",
   "execution_count": 7,
   "id": "920dc3d3-4b42-4e6c-9c2c-3f6a936ebe15",
   "metadata": {},
   "outputs": [],
   "source": [
    "# Save the preprocessed DataFrame to a CSV file\n",
    "df.to_csv('../data/preprocessed_df16000.csv', index=False)\n"
   ]
  },
  {
   "cell_type": "code",
   "execution_count": 8,
   "id": "5d9c057c-2381-45c4-9c99-cf40b277e69f",
   "metadata": {},
   "outputs": [],
   "source": [
    "# Load the preprocessed DataFrame\n",
    "df = pd.read_csv('../data/preprocessed_df16000.csv')"
   ]
  },
  {
   "cell_type": "code",
   "execution_count": 9,
   "id": "2ce48cfa-2a1e-4215-98df-19b958664285",
   "metadata": {},
   "outputs": [
    {
     "name": "stdout",
     "output_type": "stream",
     "text": [
      "<class 'pandas.core.frame.DataFrame'>\n",
      "Index: 15929 entries, 0 to 15999\n",
      "Data columns (total 2 columns):\n",
      " #   Column  Non-Null Count  Dtype \n",
      "---  ------  --------------  ----- \n",
      " 0   text    15929 non-null  object\n",
      " 1   target  15929 non-null  int64 \n",
      "dtypes: int64(1), object(1)\n",
      "memory usage: 373.3+ KB\n"
     ]
    }
   ],
   "source": [
    "# Remove rows with NaN values in the text column\n",
    "df = df.dropna(how='any', subset=['text'])\n",
    "\n",
    "# Print the DataFrame\n",
    "df.info()\n"
   ]
  },
  {
   "cell_type": "code",
   "execution_count": 10,
   "id": "df40b4e3-b7eb-4700-b4ad-3f061a1e1a6f",
   "metadata": {},
   "outputs": [],
   "source": [
    "tweet_df = df.copy()"
   ]
  },
  {
   "cell_type": "code",
   "execution_count": 11,
   "id": "1c985b67-eaa9-4a8b-8c62-865e9d537852",
   "metadata": {},
   "outputs": [],
   "source": [
    "from sklearn.model_selection import train_test_split\n",
    "\n",
    "# Split the data into training (95%) and test (5%) sets\n",
    "X_train, X_test, y_train, y_test = train_test_split(tweet_df['text'], tweet_df['target'], test_size=0.25, random_state=42)"
   ]
  },
  {
   "cell_type": "code",
   "execution_count": 12,
   "id": "fd9cda64-b7c3-4f03-88b1-138a0fd0818f",
   "metadata": {},
   "outputs": [
    {
     "data": {
      "text/plain": [
       "11946"
      ]
     },
     "metadata": {},
     "output_type": "display_data"
    },
    {
     "data": {
      "text/plain": [
       "3983"
      ]
     },
     "metadata": {},
     "output_type": "display_data"
    },
    {
     "data": {
      "text/plain": [
       "11946"
      ]
     },
     "metadata": {},
     "output_type": "display_data"
    },
    {
     "data": {
      "text/plain": [
       "3983"
      ]
     },
     "metadata": {},
     "output_type": "display_data"
    }
   ],
   "source": [
    "display(len(X_train))\n",
    "display(len(X_test))\n",
    "display(len(y_train))\n",
    "display(len(y_test))"
   ]
  },
  {
   "cell_type": "code",
   "execution_count": 13,
   "id": "fb38c2a9-1cdc-4a3c-833d-1ad511ab8f4c",
   "metadata": {},
   "outputs": [],
   "source": [
    "from keras.utils import to_categorical\n",
    "\n",
    "y_train_one_hot = to_categorical(y_train, num_classes=2)\n",
    "y_test_one_hot = to_categorical(y_test, num_classes=2)\n"
   ]
  },
  {
   "cell_type": "code",
   "execution_count": 14,
   "id": "a5ad69cf-5d91-462c-9d92-0b761e79e44f",
   "metadata": {},
   "outputs": [],
   "source": [
    "# Define the URL to download the GloVe word vectors file\n",
    "glove_url = \"https://nlp.stanford.edu/data/glove.6B.zip\"\n",
    "\n",
    "# Define the directory to store the downloaded file and the target file name\n",
    "download_dir = \"../data/glove_download\"\n",
    "zip_file_path = os.path.join(download_dir, \"glove.zip\")"
   ]
  },
  {
   "cell_type": "code",
   "execution_count": 15,
   "id": "653215ff-a1fd-41ec-9b4c-8a6ad972778d",
   "metadata": {},
   "outputs": [],
   "source": [
    "import os\n",
    "# Create the download directory if it doesn't exist\n",
    "if not os.path.exists(download_dir):\n",
    "    os.makedirs(download_dir)\n"
   ]
  },
  {
   "cell_type": "code",
   "execution_count": 16,
   "id": "55b18280-fc7f-4371-8bf2-2344ff88c156",
   "metadata": {},
   "outputs": [],
   "source": [
    "# Download the GloVe zip file\n",
    "if not os.path.exists(zip_file_path):\n",
    "    print(f\"Downloading GloVe from {glove_url}\")\n",
    "    urllib.request.urlretrieve(glove_url, zip_file_path)\n",
    "    print(\"Download complete!\")"
   ]
  },
  {
   "cell_type": "code",
   "execution_count": 17,
   "id": "5ee9d06e-526b-463e-b7b8-1fe86f4608e8",
   "metadata": {},
   "outputs": [],
   "source": [
    "# Unzip the GloVe zip file\n",
    "glove_dir = os.path.join(download_dir, \"glove\")\n",
    "if not os.path.exists(glove_dir):\n",
    "    with zipfile.ZipFile(zip_file_path, 'r') as zip_ref:\n",
    "        zip_ref.extractall(glove_dir)\n",
    "    print(f\"GloVe files extracted to {glove_dir}\")"
   ]
  },
  {
   "cell_type": "code",
   "execution_count": 18,
   "id": "007861b7-0d74-45d2-b259-8258815d7675",
   "metadata": {},
   "outputs": [
    {
     "name": "stdout",
     "output_type": "stream",
     "text": [
      "Path to GloVe file: ../data/glove_download/glove/glove.6B.300d.txt\n"
     ]
    }
   ],
   "source": [
    "# Get the path to the glove.6B.300d.txt file\n",
    "glove_file_path = os.path.join(glove_dir, \"glove.6B.300d.txt\")\n",
    "# Check if the file exists\n",
    "if os.path.exists(glove_file_path):\n",
    "    print(f\"Path to GloVe file: {glove_file_path}\")\n",
    "else:\n",
    "    print(\"GloVe file not found!\")"
   ]
  },
  {
   "cell_type": "code",
   "execution_count": 19,
   "id": "13d607bb-5e5b-44a4-ab0e-5e660f8724a8",
   "metadata": {},
   "outputs": [],
   "source": [
    "# Load GloVe word embeddings\n",
    "# glove_50 = \"data/glove_download/glove/glove.6B.50d.txt\"\n",
    "embeddings_dict = {}\n",
    "with open(glove_file_path, 'r', encoding=\"utf-8\") as f:\n",
    "    for line in f:\n",
    "        word, *embedding = line.strip().split()\n",
    "        embeddings_dict[word] = np.array(embedding, dtype=float)\n"
   ]
  },
  {
   "cell_type": "code",
   "execution_count": 20,
   "id": "c2ce1a9f-31d3-44d8-8695-50e0548c18d0",
   "metadata": {},
   "outputs": [
    {
     "data": {
      "text/plain": [
       "400000"
      ]
     },
     "execution_count": 20,
     "metadata": {},
     "output_type": "execute_result"
    }
   ],
   "source": [
    "len(embeddings_dict)"
   ]
  },
  {
   "cell_type": "code",
   "execution_count": 21,
   "id": "c78552fe-d4b8-4529-a30e-b8e801d5de6f",
   "metadata": {},
   "outputs": [
    {
     "data": {
      "text/plain": [
       "['../models/tokenizer.pkl']"
      ]
     },
     "execution_count": 21,
     "metadata": {},
     "output_type": "execute_result"
    }
   ],
   "source": [
    "from keras.preprocessing.text import Tokenizer\n",
    "from keras.preprocessing.sequence import pad_sequences\n",
    "\n",
    "# Create a tokenizer\n",
    "tokenizer = Tokenizer()\n",
    "tokenizer.fit_on_texts(X_train)\n",
    "\n",
    "# Convert the text to sequences of indices\n",
    "X_train_seq = tokenizer.texts_to_sequences(X_train)\n",
    "X_test_seq = tokenizer.texts_to_sequences(X_test)\n",
    "\n",
    "# Pad the sequences so all of them have the same length\n",
    "max_len = 150\n",
    "X_train_seq = pad_sequences(X_train_seq, maxlen=max_len)\n",
    "X_test_seq = pad_sequences(X_test_seq, maxlen=max_len)\n",
    "\n",
    "# Save the tokenizer to a file\n",
    "joblib.dump(tokenizer, '../models/tokenizer.pkl')"
   ]
  },
  {
   "cell_type": "code",
   "execution_count": 22,
   "id": "da2af243-3bfa-4698-a0d0-1dc12bb0c37b",
   "metadata": {},
   "outputs": [],
   "source": [
    "from keras.layers import Embedding\n",
    "\n",
    "# Create an embedding matrix\n",
    "word_index = tokenizer.word_index\n",
    "embedding_matrix = np.zeros((len(word_index) + 1, 300))\n",
    "for word, i in word_index.items():\n",
    "    embedding_vector = embeddings_dict.get(word)\n",
    "    if embedding_vector is not None:\n",
    "        embedding_matrix[i] = embedding_vector"
   ]
  },
  {
   "cell_type": "code",
   "execution_count": 23,
   "id": "7c3b6593-61de-47b1-9b97-7ebc9692f7c6",
   "metadata": {},
   "outputs": [
    {
     "name": "stderr",
     "output_type": "stream",
     "text": [
      "/Users/drainasr-edine/github/ingenieur_ia/P7_drai_nasr-edine_app/.venv2/lib/python3.10/site-packages/pydantic/_internal/_fields.py:128: UserWarning: Field \"model_server_url\" has conflict with protected namespace \"model_\".\n",
      "\n",
      "You may be able to resolve this warning by setting `model_config['protected_namespaces'] = ()`.\n",
      "  warnings.warn(\n",
      "/Users/drainasr-edine/github/ingenieur_ia/P7_drai_nasr-edine_app/.venv2/lib/python3.10/site-packages/pydantic/_internal/_config.py:317: UserWarning: Valid config keys have changed in V2:\n",
      "* 'schema_extra' has been renamed to 'json_schema_extra'\n",
      "  warnings.warn(message, UserWarning)\n"
     ]
    },
    {
     "data": {
      "text/plain": [
       "<Experiment: artifact_location='file:///Users/drainasr-edine/github/ingenieur_ia/P7_drai_nasr-edine_app/notebooks/mlruns/533166044865263743', creation_time=1695934009457, experiment_id='533166044865263743', last_update_time=1695934009457, lifecycle_stage='active', name='lstm_model', tags={}>"
      ]
     },
     "execution_count": 23,
     "metadata": {},
     "output_type": "execute_result"
    }
   ],
   "source": [
    "import mlflow\n",
    "\n",
    "# Check if the experiment exists, and if not, create it\n",
    "experiment_name = \"lstm_model\"\n",
    "if not mlflow.get_experiment_by_name(experiment_name):\n",
    "    mlflow.create_experiment(experiment_name)\n",
    "\n",
    "mlflow.set_experiment(experiment_name)"
   ]
  },
  {
   "cell_type": "code",
   "execution_count": 24,
   "id": "089c4afc-ffbf-4641-99de-46111fda8715",
   "metadata": {},
   "outputs": [
    {
     "data": {
      "text/plain": [
       "<ActiveRun: >"
      ]
     },
     "execution_count": 24,
     "metadata": {},
     "output_type": "execute_result"
    }
   ],
   "source": [
    "mlflow.start_run(description=\"lstm_model\")"
   ]
  },
  {
   "cell_type": "code",
   "execution_count": 25,
   "id": "79ef7008-7de8-43b2-92d0-b1f04357323a",
   "metadata": {},
   "outputs": [],
   "source": [
    "model = Sequential()\n",
    "model.add(Embedding(len(word_index) + 1, 300, weights=[embedding_matrix], input_length=max_len, trainable=False))\n",
    "model.add(Dropout(0.5))\n",
    "model.add(LSTM(100, dropout=0.2, recurrent_dropout=0.2))\n",
    "# model.add(Dense(1, activation='sigmoid'))\n",
    "model.add(Dense(2, activation='softmax'))\n"
   ]
  },
  {
   "cell_type": "code",
   "execution_count": 26,
   "id": "8a105d6a-d41f-4790-bcca-3f923c4c121d",
   "metadata": {},
   "outputs": [
    {
     "name": "stdout",
     "output_type": "stream",
     "text": [
      "Model: \"sequential\"\n",
      "_________________________________________________________________\n",
      " Layer (type)                Output Shape              Param #   \n",
      "=================================================================\n",
      " embedding (Embedding)       (None, 150, 300)          4557600   \n",
      "                                                                 \n",
      " dropout (Dropout)           (None, 150, 300)          0         \n",
      "                                                                 \n",
      " lstm (LSTM)                 (None, 100)               160400    \n",
      "                                                                 \n",
      " dense (Dense)               (None, 2)                 202       \n",
      "                                                                 \n",
      "=================================================================\n",
      "Total params: 4718202 (18.00 MB)\n",
      "Trainable params: 160602 (627.35 KB)\n",
      "Non-trainable params: 4557600 (17.39 MB)\n",
      "_________________________________________________________________\n",
      "None\n"
     ]
    }
   ],
   "source": [
    "# model.compile(loss='binary_crossentropy', optimizer='adam', metrics=['accuracy'])\n",
    "model.compile(loss='categorical_crossentropy', optimizer='adam', metrics=['accuracy'])\n",
    "\n",
    "print(model.summary())\n"
   ]
  },
  {
   "cell_type": "code",
   "execution_count": 27,
   "id": "c90d6b14-193b-4f36-8dfc-41c30fbe9820",
   "metadata": {},
   "outputs": [
    {
     "name": "stdout",
     "output_type": "stream",
     "text": [
      "Epoch 1/8\n",
      "12/12 [==============================] - 46s 4s/step - loss: 0.6678 - accuracy: 0.5885 - val_loss: 0.6128 - val_accuracy: 0.6741\n",
      "Epoch 2/8\n",
      "12/12 [==============================] - 42s 4s/step - loss: 0.6162 - accuracy: 0.6624 - val_loss: 0.5855 - val_accuracy: 0.6995\n",
      "Epoch 3/8\n",
      "12/12 [==============================] - 42s 4s/step - loss: 0.5952 - accuracy: 0.6789 - val_loss: 0.5705 - val_accuracy: 0.7042\n",
      "Epoch 4/8\n",
      "12/12 [==============================] - 47s 4s/step - loss: 0.5850 - accuracy: 0.6920 - val_loss: 0.5698 - val_accuracy: 0.6992\n",
      "Epoch 5/8\n",
      "12/12 [==============================] - 44s 4s/step - loss: 0.5822 - accuracy: 0.6919 - val_loss: 0.5700 - val_accuracy: 0.7030\n",
      "Epoch 6/8\n",
      "12/12 [==============================] - 44s 4s/step - loss: 0.5805 - accuracy: 0.6940 - val_loss: 0.5620 - val_accuracy: 0.7120\n",
      "Epoch 7/8\n",
      "12/12 [==============================] - 44s 4s/step - loss: 0.5736 - accuracy: 0.6996 - val_loss: 0.5624 - val_accuracy: 0.7075\n",
      "Epoch 8/8\n",
      "12/12 [==============================] - 42s 4s/step - loss: 0.5674 - accuracy: 0.7028 - val_loss: 0.5612 - val_accuracy: 0.7095\n"
     ]
    }
   ],
   "source": [
    "# Train the model\n",
    "history = model.fit(X_train_seq, y_train_one_hot, epochs=8, batch_size=1024, validation_data=(X_test_seq, y_test_one_hot))\n"
   ]
  },
  {
   "cell_type": "code",
   "execution_count": 28,
   "id": "40de804b-a4e4-4d8a-8b24-9fc3a5121d73",
   "metadata": {},
   "outputs": [
    {
     "data": {
      "text/plain": [
       "['../models/lstm_model_glove.pkl']"
      ]
     },
     "execution_count": 28,
     "metadata": {},
     "output_type": "execute_result"
    }
   ],
   "source": [
    "joblib.dump(model, '../models/lstm_model_glove.pkl')\n"
   ]
  },
  {
   "cell_type": "code",
   "execution_count": 29,
   "id": "f8abcb9a-a5e0-4de3-965d-5575d42d6ef1",
   "metadata": {},
   "outputs": [
    {
     "name": "stdout",
     "output_type": "stream",
     "text": [
      "125/125 [==============================] - 7s 55ms/step - loss: 0.5612 - accuracy: 0.7095\n",
      "Accuracy: 70.95%\n",
      "Loss: 56.12%\n"
     ]
    }
   ],
   "source": [
    "# Evaluate the model on the test set\n",
    "loss, accuracy = model.evaluate(X_test_seq, y_test_one_hot)\n",
    "print(f'Accuracy: {accuracy * 100:.2f}%')\n",
    "print(f'Loss: {loss * 100:.2f}%')"
   ]
  },
  {
   "cell_type": "code",
   "execution_count": 35,
   "id": "b7d9de1e-9453-4dab-8fbd-ff084d09a264",
   "metadata": {},
   "outputs": [
    {
     "name": "stdout",
     "output_type": "stream",
     "text": [
      "125/125 [==============================] - 6s 48ms/step\n"
     ]
    },
    {
     "data": {
      "image/png": "[encoded data removed]",
      "text/plain": [
       "<Figure size 640x480 with 2 Axes>"
      ]
     },
     "metadata": {},
     "output_type": "display_data"
    },
    {
     "name": "stdout",
     "output_type": "stream",
     "text": [
      "Classification Report:\n",
      "              precision    recall  f1-score   support\n",
      "\n",
      "           0       0.69      0.75      0.72      1989\n",
      "           1       0.73      0.67      0.70      1994\n",
      "\n",
      "    accuracy                           0.71      3983\n",
      "   macro avg       0.71      0.71      0.71      3983\n",
      "weighted avg       0.71      0.71      0.71      3983\n",
      "\n"
     ]
    }
   ],
   "source": [
    "from sklearn.metrics import confusion_matrix, ConfusionMatrixDisplay, classification_report\n",
    "\n",
    "# Make predictions using your LSTM model\n",
    "y_pred = model.predict(X_test_seq)\n",
    "\n",
    "# Convert softmax predictions into categorical labels (0 or 1)\n",
    "y_pred_labels = np.argmax(y_pred, axis=1)\n",
    "y_true_labels = np.argmax(y_test_one_hot, axis=1)\n",
    "\n",
    "# Calculate the confusion matrix\n",
    "conf_matrix = confusion_matrix(y_true_labels, y_pred_labels)\n",
    "\n",
    "# Normalize the confusion matrix to display percentages\n",
    "conf_matrix_norm = conf_matrix.astype('float') / conf_matrix.sum(axis=1)[:, np.newaxis] * 100\n",
    "\n",
    "# Plot the confusion matrix using ConfusionMatrixDisplay\n",
    "disp = ConfusionMatrixDisplay(confusion_matrix=conf_matrix_norm)\n",
    "\n",
    "# Display the confusion matrix\n",
    "disp.plot()\n",
    "plt.xlabel('Predicted')\n",
    "plt.ylabel('True')\n",
    "plt.title('Confusion Matrix (in %)')\n",
    "\n",
    "# Save the plot as an image (e.g., PNG)\n",
    "plt.savefig('../imgs/confusion_matrix_plot.png')\n",
    "mlflow.log_artifact('../imgs/confusion_matrix_plot.png')\n",
    "\n",
    "# Show the plot\n",
    "plt.show()\n",
    "\n",
    "# Calculate other evaluation metrics (optional)\n",
    "report = classification_report(y_true_labels, y_pred_labels)\n",
    "print(\"Classification Report:\")\n",
    "print(report)\n"
   ]
  },
  {
   "cell_type": "code",
   "execution_count": 30,
   "id": "92869625-b75d-43d3-b50d-505fb774dabe",
   "metadata": {},
   "outputs": [
    {
     "data": {
      "image/png": "[encoded data removed]",
      "text/plain": [
       "<Figure size 640x480 with 1 Axes>"
      ]
     },
     "metadata": {},
     "output_type": "display_data"
    }
   ],
   "source": [
    "plt.plot(history.history['accuracy'], c= 'b')\n",
    "plt.plot(history.history['val_accuracy'], c='r')\n",
    "plt.title('Accuracy Plot')\n",
    "plt.ylabel('Accuracy')\n",
    "plt.xlabel('Epoch')\n",
    "plt.legend(['LSTM_train', 'LSTM_val'], loc='upper left')\n",
    "plt.savefig('../imgs/accuracy_plot.png')\n",
    "mlflow.log_artifact('../imgs/accuracy_plot.png')\n",
    "\n",
    "plt.show()\n"
   ]
  },
  {
   "cell_type": "code",
   "execution_count": 31,
   "id": "905c8158-fd58-4d15-a0d8-a93eff1ea448",
   "metadata": {},
   "outputs": [
    {
     "data": {
      "image/png": "[encoded data removed]",
      "text/plain": [
       "<Figure size 640x480 with 1 Axes>"
      ]
     },
     "metadata": {},
     "output_type": "display_data"
    }
   ],
   "source": [
    "\n",
    "plt.plot(history.history['loss'], c='m')\n",
    "plt.plot(history.history['val_loss'], c='c')\n",
    "plt.title('Loss Plot')\n",
    "plt.ylabel('Loss')\n",
    "plt.xlabel('Epoch')\n",
    "plt.legend(['train', 'val'], loc = 'upper left')\n",
    "plt.savefig('../imgs/loss_plot.png')\n",
    "mlflow.log_artifact('../imgs/loss_plot.png')\n",
    "plt.show()\n"
   ]
  },
  {
   "cell_type": "code",
   "execution_count": 32,
   "id": "52b3bbcf-3c5b-4aa4-8256-a74026b43190",
   "metadata": {},
   "outputs": [],
   "source": [
    "# Track your experiment with MLflow\n",
    "mlflow.log_metrics({'accuracy': accuracy})\n",
    "mlflow.log_metrics({'loss': loss})"
   ]
  },
  {
   "cell_type": "code",
   "execution_count": 40,
   "id": "ed08bf19-8585-4103-9bff-128b94784e93",
   "metadata": {},
   "outputs": [],
   "source": [
    "# Log hyperparameters\n",
    "mlflow.log_params({'input_dim': len(word_index), 'output_dim': 300, 'input_length': max_len})\n",
    "mlflow.log_params({'epochs': 8, 'batch_size': 1024})\n"
   ]
  },
  {
   "cell_type": "code",
   "execution_count": 41,
   "id": "0a20163a-865d-468c-825b-fc3a85a46b7b",
   "metadata": {},
   "outputs": [],
   "source": [
    "# Save the model to a file\n",
    "mlflow.log_artifact('../models/lstm_model_glove.pkl')"
   ]
  },
  {
   "cell_type": "code",
   "execution_count": 42,
   "id": "5a033544-216f-4317-8bed-8f62c9471621",
   "metadata": {},
   "outputs": [],
   "source": [
    "mlflow.end_run()"
   ]
  },
  {
   "cell_type": "code",
   "execution_count": 40,
   "id": "e3613007-67ff-4f75-8e34-57a77ad8071e",
   "metadata": {},
   "outputs": [
    {
     "name": "stdout",
     "output_type": "stream",
     "text": [
      "/Users/drainasr-edine/github/ingenieur_ia/P7_drai_nasr-edine_app/.venv2/lib/python3.10/site-packages/pydantic/_internal/_fields.py:128: UserWarning: Field \"model_server_url\" has conflict with protected namespace \"model_\".\n",
      "\n",
      "You may be able to resolve this warning by setting `model_config['protected_namespaces'] = ()`.\n",
      "  warnings.warn(\n",
      "/Users/drainasr-edine/github/ingenieur_ia/P7_drai_nasr-edine_app/.venv2/lib/python3.10/site-packages/pydantic/_internal/_config.py:317: UserWarning: Valid config keys have changed in V2:\n",
      "* 'schema_extra' has been renamed to 'json_schema_extra'\n",
      "  warnings.warn(message, UserWarning)\n",
      "[2023-09-28 23:00:12 +0200] [43360] [INFO] Starting gunicorn 21.2.0\n",
      "[2023-09-28 23:00:12 +0200] [43360] [INFO] Listening at: http://127.0.0.1:5000 (43360)\n",
      "[2023-09-28 23:00:12 +0200] [43360] [INFO] Using worker: sync\n",
      "[2023-09-28 23:00:12 +0200] [43361] [INFO] Booting worker with pid: 43361\n",
      "[2023-09-28 23:00:12 +0200] [43362] [INFO] Booting worker with pid: 43362\n",
      "[2023-09-28 23:00:12 +0200] [43363] [INFO] Booting worker with pid: 43363\n",
      "[2023-09-28 23:00:12 +0200] [43364] [INFO] Booting worker with pid: 43364\n",
      "/Users/drainasr-edine/github/ingenieur_ia/P7_drai_nasr-edine_app/.venv2/lib/python3.10/site-packages/pydantic/_internal/_fields.py:128: UserWarning: Field \"model_server_url\" has conflict with protected namespace \"model_\".\n",
      "\n",
      "You may be able to resolve this warning by setting `model_config['protected_namespaces'] = ()`.\n",
      "  warnings.warn(\n",
      "/Users/drainasr-edine/github/ingenieur_ia/P7_drai_nasr-edine_app/.venv2/lib/python3.10/site-packages/pydantic/_internal/_fields.py:128: UserWarning: Field \"model_server_url\" has conflict with protected namespace \"model_\".\n",
      "\n",
      "You may be able to resolve this warning by setting `model_config['protected_namespaces'] = ()`.\n",
      "  warnings.warn(\n",
      "/Users/drainasr-edine/github/ingenieur_ia/P7_drai_nasr-edine_app/.venv2/lib/python3.10/site-packages/pydantic/_internal/_config.py:317: UserWarning: Valid config keys have changed in V2:\n",
      "* 'schema_extra' has been renamed to 'json_schema_extra'\n",
      "  warnings.warn(message, UserWarning)\n",
      "/Users/drainasr-edine/github/ingenieur_ia/P7_drai_nasr-edine_app/.venv2/lib/python3.10/site-packages/pydantic/_internal/_config.py:317: UserWarning: Valid config keys have changed in V2:\n",
      "* 'schema_extra' has been renamed to 'json_schema_extra'\n",
      "  warnings.warn(message, UserWarning)\n",
      "/Users/drainasr-edine/github/ingenieur_ia/P7_drai_nasr-edine_app/.venv2/lib/python3.10/site-packages/pydantic/_internal/_fields.py:128: UserWarning: Field \"model_server_url\" has conflict with protected namespace \"model_\".\n",
      "\n",
      "You may be able to resolve this warning by setting `model_config['protected_namespaces'] = ()`.\n",
      "  warnings.warn(\n",
      "/Users/drainasr-edine/github/ingenieur_ia/P7_drai_nasr-edine_app/.venv2/lib/python3.10/site-packages/pydantic/_internal/_config.py:317: UserWarning: Valid config keys have changed in V2:\n",
      "* 'schema_extra' has been renamed to 'json_schema_extra'\n",
      "  warnings.warn(message, UserWarning)\n",
      "/Users/drainasr-edine/github/ingenieur_ia/P7_drai_nasr-edine_app/.venv2/lib/python3.10/site-packages/pydantic/_internal/_fields.py:128: UserWarning: Field \"model_server_url\" has conflict with protected namespace \"model_\".\n",
      "\n",
      "You may be able to resolve this warning by setting `model_config['protected_namespaces'] = ()`.\n",
      "  warnings.warn(\n",
      "/Users/drainasr-edine/github/ingenieur_ia/P7_drai_nasr-edine_app/.venv2/lib/python3.10/site-packages/pydantic/_internal/_config.py:317: UserWarning: Valid config keys have changed in V2:\n",
      "* 'schema_extra' has been renamed to 'json_schema_extra'\n",
      "  warnings.warn(message, UserWarning)\n",
      "^C\n",
      "[2023-09-28 23:00:47 +0200] [43360] [INFO] Handling signal: int\n",
      "[2023-09-28 23:00:47 +0200] [43361] [INFO] Worker exiting (pid: 43361)\n",
      "[2023-09-28 23:00:47 +0200] [43362] [INFO] Worker exiting (pid: 43362)\n",
      "[2023-09-28 23:00:47 +0200] [43364] [INFO] Worker exiting (pid: 43364)\n",
      "[2023-09-28 23:00:47 +0200] [43363] [INFO] Worker exiting (pid: 43363)\n"
     ]
    }
   ],
   "source": [
    "!mlflow ui"
   ]
  }
 ],
 "metadata": {
  "kernelspec": {
   "display_name": "Python 3 (ipykernel)",
   "language": "python",
   "name": "python3"
  },
  "language_info": {
   "codemirror_mode": {
    "name": "ipython",
    "version": 3
   },
   "file_extension": ".py",
   "mimetype": "text/x-python",
   "name": "python",
   "nbconvert_exporter": "python",
   "pygments_lexer": "ipython3",
   "version": "3.10.1"
  }
 },
 "nbformat": 4,
 "nbformat_minor": 5
}
