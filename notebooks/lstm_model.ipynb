{
 "cells": [
  {
   "cell_type": "code",
   "execution_count": 2,
   "id": "69a2a38b-a873-4181-91d5-2e8abaaf8e8e",
   "metadata": {},
   "outputs": [
    {
     "name": "stderr",
     "output_type": "stream",
     "text": [
      "2023-09-30 12:38:38.421923: I tensorflow/core/platform/cpu_feature_guard.cc:182] This TensorFlow binary is optimized to use available CPU instructions in performance-critical operations.\n",
      "To enable the following instructions: AVX2 FMA, in other operations, rebuild TensorFlow with the appropriate compiler flags.\n",
      "[nltk_data] Downloading package punkt to /Users/drainasr-\n",
      "[nltk_data]     edine/nltk_data...\n",
      "[nltk_data]   Package punkt is already up-to-date!\n",
      "[nltk_data] Downloading package stopwords to /Users/drainasr-\n",
      "[nltk_data]     edine/nltk_data...\n",
      "[nltk_data]   Package stopwords is already up-to-date!\n",
      "[nltk_data] Downloading package wordnet to /Users/drainasr-\n",
      "[nltk_data]     edine/nltk_data...\n",
      "[nltk_data]   Package wordnet is already up-to-date!\n"
     ]
    }
   ],
   "source": [
    "import re\n",
    "import string\n",
    "import glob\n",
    "\n",
    "import os\n",
    "import sys\n",
    "import pandas as pd\n",
    "import numpy as np\n",
    "# import gensim\n",
    "import zipfile\n",
    "import urllib.request\n",
    "import tensorflow as tf\n",
    "\n",
    "from sklearn.manifold import TSNE\n",
    "import matplotlib.pyplot as plt\n",
    "\n",
    "import joblib\n",
    "import pandas as pd\n",
    "\n",
    "from unidecode import unidecode\n",
    "from nltk.tokenize import word_tokenize\n",
    "from nltk.corpus import stopwords\n",
    "# import spacy\n",
    "import nltk\n",
    "\n",
    "sys.path.append(os.path.abspath('..'))\n",
    "from text_processing_utils import preprocess_text\n",
    "\n",
    "from tensorflow.keras.models import Sequential\n",
    "from tensorflow.keras.layers import Embedding, Dropout, LSTM, Dense\n",
    "\n",
    "output_dir = \"../data/sentiment140\"\n",
    "DATASET_COLUMNS = [\"target\", \"ids\", \"date\", \"flag\", \"user\", \"text\"]\n",
    "DATASET_ENCODING = \"ISO-8859-1\""
   ]
  },
  {
   "cell_type": "code",
   "execution_count": 3,
   "id": "c411906e-835b-40b4-a566-9a9492ad0a9a",
   "metadata": {},
   "outputs": [
    {
     "name": "stdout",
     "output_type": "stream",
     "text": [
      "../data/sentiment140/debug16000.csv\n",
      "../data/sentiment140/debug1600.csv\n",
      "../data/sentiment140/training.1600000.processed.noemoticon.csv\n",
      "../data/sentiment140/debug.csv\n",
      "../data/sentiment140/debug160000.csv\n"
     ]
    }
   ],
   "source": [
    "# Use glob to get a list of CSV files in the directory\n",
    "csv_files = glob.glob(f'{output_dir}/*.csv')\n",
    "\n",
    "# Now, csv_files contains a list of paths to all CSV files in the directory\n",
    "for csv_file in csv_files:\n",
    "    print(csv_file)"
   ]
  },
  {
   "cell_type": "code",
   "execution_count": 4,
   "id": "441b6542-a6ca-4335-9444-e951b18114f9",
   "metadata": {},
   "outputs": [
    {
     "data": {
      "text/html": [
       "<div>\n",
       "<style scoped>\n",
       "    .dataframe tbody tr th:only-of-type {\n",
       "        vertical-align: middle;\n",
       "    }\n",
       "\n",
       "    .dataframe tbody tr th {\n",
       "        vertical-align: top;\n",
       "    }\n",
       "\n",
       "    .dataframe thead th {\n",
       "        text-align: right;\n",
       "    }\n",
       "</style>\n",
       "<table border=\"1\" class=\"dataframe\">\n",
       "  <thead>\n",
       "    <tr style=\"text-align: right;\">\n",
       "      <th></th>\n",
       "      <th>target</th>\n",
       "      <th>ids</th>\n",
       "      <th>date</th>\n",
       "      <th>flag</th>\n",
       "      <th>user</th>\n",
       "      <th>text</th>\n",
       "    </tr>\n",
       "  </thead>\n",
       "  <tbody>\n",
       "    <tr>\n",
       "      <th>0</th>\n",
       "      <td>0</td>\n",
       "      <td>2060659214</td>\n",
       "      <td>Sat Jun 06 19:19:41 PDT 2009</td>\n",
       "      <td>NO_QUERY</td>\n",
       "      <td>Goodbyeadam</td>\n",
       "      <td>I think my car is dying. It's so loud</td>\n",
       "    </tr>\n",
       "    <tr>\n",
       "      <th>1</th>\n",
       "      <td>4</td>\n",
       "      <td>1962960561</td>\n",
       "      <td>Fri May 29 11:59:25 PDT 2009</td>\n",
       "      <td>NO_QUERY</td>\n",
       "      <td>MissNun_ya</td>\n",
       "      <td>hoping to figure out how to get updates to go ...</td>\n",
       "    </tr>\n",
       "    <tr>\n",
       "      <th>2</th>\n",
       "      <td>0</td>\n",
       "      <td>1999925049</td>\n",
       "      <td>Mon Jun 01 21:04:29 PDT 2009</td>\n",
       "      <td>NO_QUERY</td>\n",
       "      <td>Vanache</td>\n",
       "      <td>@k_rockNsoul - I haven't been able to load the...</td>\n",
       "    </tr>\n",
       "  </tbody>\n",
       "</table>\n",
       "</div>"
      ],
      "text/plain": [
       "   target         ids                          date      flag         user  \\\n",
       "0       0  2060659214  Sat Jun 06 19:19:41 PDT 2009  NO_QUERY  Goodbyeadam   \n",
       "1       4  1962960561  Fri May 29 11:59:25 PDT 2009  NO_QUERY   MissNun_ya   \n",
       "2       0  1999925049  Mon Jun 01 21:04:29 PDT 2009  NO_QUERY      Vanache   \n",
       "\n",
       "                                                text  \n",
       "0             I think my car is dying. It's so loud   \n",
       "1  hoping to figure out how to get updates to go ...  \n",
       "2  @k_rockNsoul - I haven't been able to load the...  "
      ]
     },
     "execution_count": 4,
     "metadata": {},
     "output_type": "execute_result"
    }
   ],
   "source": [
    "# Read the CSV file into a DataFrame with the specified encoding and column names\n",
    "df = pd.read_csv(csv_files[0], encoding=DATASET_ENCODING)\n",
    "# df = pd.read_csv(csv_files[0], encoding=DATASET_ENCODING, names=DATASET_COLUMNS)\n",
    "\n",
    "# Display the first few rows of the DataFrame to check the data\n",
    "df.head(3)\n"
   ]
  },
  {
   "cell_type": "code",
   "execution_count": 5,
   "id": "9b76069e-641b-4948-946e-4141e40c5c1a",
   "metadata": {},
   "outputs": [
    {
     "name": "stdout",
     "output_type": "stream",
     "text": [
      "<class 'pandas.core.frame.DataFrame'>\n",
      "RangeIndex: 16000 entries, 0 to 15999\n",
      "Data columns (total 6 columns):\n",
      " #   Column  Non-Null Count  Dtype \n",
      "---  ------  --------------  ----- \n",
      " 0   target  16000 non-null  int64 \n",
      " 1   ids     16000 non-null  int64 \n",
      " 2   date    16000 non-null  object\n",
      " 3   flag    16000 non-null  object\n",
      " 4   user    16000 non-null  object\n",
      " 5   text    16000 non-null  object\n",
      "dtypes: int64(2), object(4)\n",
      "memory usage: 750.1+ KB\n"
     ]
    }
   ],
   "source": [
    "df.info()"
   ]
  },
  {
   "cell_type": "code",
   "execution_count": 6,
   "id": "c4163b8f-24fe-4325-8120-50a5b40ae56c",
   "metadata": {
    "scrolled": true
   },
   "outputs": [],
   "source": [
    "df[\"target\"] = df[\"target\"].replace(4, 1)\n",
    "df['text'] = df['text'].apply(preprocess_text)\n",
    "df = df[['text', 'target']]"
   ]
  },
  {
   "cell_type": "code",
   "execution_count": 7,
   "id": "a26a3dfd-bb07-4d6f-87d0-99e5820181ae",
   "metadata": {},
   "outputs": [
    {
     "data": {
      "text/html": [
       "<div>\n",
       "<style scoped>\n",
       "    .dataframe tbody tr th:only-of-type {\n",
       "        vertical-align: middle;\n",
       "    }\n",
       "\n",
       "    .dataframe tbody tr th {\n",
       "        vertical-align: top;\n",
       "    }\n",
       "\n",
       "    .dataframe thead th {\n",
       "        text-align: right;\n",
       "    }\n",
       "</style>\n",
       "<table border=\"1\" class=\"dataframe\">\n",
       "  <thead>\n",
       "    <tr style=\"text-align: right;\">\n",
       "      <th></th>\n",
       "      <th>text</th>\n",
       "      <th>target</th>\n",
       "    </tr>\n",
       "  </thead>\n",
       "  <tbody>\n",
       "    <tr>\n",
       "      <th>0</th>\n",
       "      <td>think car dying loud</td>\n",
       "      <td>0</td>\n",
       "    </tr>\n",
       "    <tr>\n",
       "      <th>1</th>\n",
       "      <td>hoping figure get update go phone think twitte...</td>\n",
       "      <td>1</td>\n",
       "    </tr>\n",
       "    <tr>\n",
       "      <th>2</th>\n",
       "      <td>able load yet laptop busted gon na take</td>\n",
       "      <td>0</td>\n",
       "    </tr>\n",
       "    <tr>\n",
       "      <th>3</th>\n",
       "      <td>got pogo stick</td>\n",
       "      <td>1</td>\n",
       "    </tr>\n",
       "    <tr>\n",
       "      <th>4</th>\n",
       "      <td>well make mind</td>\n",
       "      <td>0</td>\n",
       "    </tr>\n",
       "    <tr>\n",
       "      <th>5</th>\n",
       "      <td>mm yay work hour tomorrow hour tuesday cant la...</td>\n",
       "      <td>0</td>\n",
       "    </tr>\n",
       "    <tr>\n",
       "      <th>6</th>\n",
       "      <td>come extra litter cat food anytime</td>\n",
       "      <td>1</td>\n",
       "    </tr>\n",
       "    <tr>\n",
       "      <th>7</th>\n",
       "      <td>ohhhhh hope turn perfectly</td>\n",
       "      <td>1</td>\n",
       "    </tr>\n",
       "    <tr>\n",
       "      <th>8</th>\n",
       "      <td>ill check wana win ticket show cuz im poor hahha</td>\n",
       "      <td>0</td>\n",
       "    </tr>\n",
       "    <tr>\n",
       "      <th>9</th>\n",
       "      <td>sure right would able persuade</td>\n",
       "      <td>0</td>\n",
       "    </tr>\n",
       "  </tbody>\n",
       "</table>\n",
       "</div>"
      ],
      "text/plain": [
       "                                                text  target\n",
       "0                               think car dying loud       0\n",
       "1  hoping figure get update go phone think twitte...       1\n",
       "2            able load yet laptop busted gon na take       0\n",
       "3                                     got pogo stick       1\n",
       "4                                     well make mind       0\n",
       "5  mm yay work hour tomorrow hour tuesday cant la...       0\n",
       "6                 come extra litter cat food anytime       1\n",
       "7                         ohhhhh hope turn perfectly       1\n",
       "8   ill check wana win ticket show cuz im poor hahha       0\n",
       "9                     sure right would able persuade       0"
      ]
     },
     "execution_count": 7,
     "metadata": {},
     "output_type": "execute_result"
    }
   ],
   "source": [
    "df.head(10)"
   ]
  },
  {
   "cell_type": "code",
   "execution_count": 8,
   "id": "920dc3d3-4b42-4e6c-9c2c-3f6a936ebe15",
   "metadata": {},
   "outputs": [],
   "source": [
    "# Save the preprocessed DataFrame to a CSV file\n",
    "df.to_csv('../data/preprocessed_df16000.csv', index=False)\n"
   ]
  },
  {
   "cell_type": "code",
   "execution_count": 9,
   "id": "5d9c057c-2381-45c4-9c99-cf40b277e69f",
   "metadata": {},
   "outputs": [],
   "source": [
    "# Load the preprocessed DataFrame\n",
    "df = pd.read_csv('../data/preprocessed_df16000.csv')"
   ]
  },
  {
   "cell_type": "code",
   "execution_count": 10,
   "id": "2ce48cfa-2a1e-4215-98df-19b958664285",
   "metadata": {},
   "outputs": [
    {
     "name": "stdout",
     "output_type": "stream",
     "text": [
      "<class 'pandas.core.frame.DataFrame'>\n",
      "Index: 15912 entries, 0 to 15999\n",
      "Data columns (total 2 columns):\n",
      " #   Column  Non-Null Count  Dtype \n",
      "---  ------  --------------  ----- \n",
      " 0   text    15912 non-null  object\n",
      " 1   target  15912 non-null  int64 \n",
      "dtypes: int64(1), object(1)\n",
      "memory usage: 372.9+ KB\n"
     ]
    }
   ],
   "source": [
    "# Remove rows with NaN values in the text column\n",
    "df = df.dropna(how='any', subset=['text'])\n",
    "\n",
    "# Print the DataFrame\n",
    "df.info()\n"
   ]
  },
  {
   "cell_type": "code",
   "execution_count": 11,
   "id": "df40b4e3-b7eb-4700-b4ad-3f061a1e1a6f",
   "metadata": {},
   "outputs": [],
   "source": [
    "tweet_df = df.copy()"
   ]
  },
  {
   "cell_type": "code",
   "execution_count": 12,
   "id": "1c985b67-eaa9-4a8b-8c62-865e9d537852",
   "metadata": {},
   "outputs": [],
   "source": [
    "from sklearn.model_selection import train_test_split\n",
    "\n",
    "# Split the data into training (95%) and test (5%) sets\n",
    "X_train, X_test, y_train, y_test = train_test_split(tweet_df['text'], tweet_df['target'], test_size=0.25, random_state=42)"
   ]
  },
  {
   "cell_type": "code",
   "execution_count": 13,
   "id": "fd9cda64-b7c3-4f03-88b1-138a0fd0818f",
   "metadata": {},
   "outputs": [
    {
     "data": {
      "text/plain": [
       "11934"
      ]
     },
     "metadata": {},
     "output_type": "display_data"
    },
    {
     "data": {
      "text/plain": [
       "3978"
      ]
     },
     "metadata": {},
     "output_type": "display_data"
    },
    {
     "data": {
      "text/plain": [
       "11934"
      ]
     },
     "metadata": {},
     "output_type": "display_data"
    },
    {
     "data": {
      "text/plain": [
       "3978"
      ]
     },
     "metadata": {},
     "output_type": "display_data"
    }
   ],
   "source": [
    "display(len(X_train))\n",
    "display(len(X_test))\n",
    "display(len(y_train))\n",
    "display(len(y_test))"
   ]
  },
  {
   "cell_type": "code",
   "execution_count": 28,
   "id": "fb38c2a9-1cdc-4a3c-833d-1ad511ab8f4c",
   "metadata": {},
   "outputs": [],
   "source": [
    "from keras.utils import to_categorical\n",
    "\n",
    "y_train_one_hot = to_categorical(y_train, num_classes=2)\n",
    "y_test_one_hot = to_categorical(y_test, num_classes=2)\n"
   ]
  },
  {
   "cell_type": "code",
   "execution_count": 29,
   "id": "f476d09f-2007-4e43-b410-3518456f8eac",
   "metadata": {},
   "outputs": [
    {
     "data": {
      "text/plain": [
       "array([[1., 0.],\n",
       "       [1., 0.],\n",
       "       [1., 0.],\n",
       "       ...,\n",
       "       [1., 0.],\n",
       "       [1., 0.],\n",
       "       [0., 1.]], dtype=float32)"
      ]
     },
     "execution_count": 29,
     "metadata": {},
     "output_type": "execute_result"
    }
   ],
   "source": [
    "y_test_one_hot"
   ]
  },
  {
   "cell_type": "code",
   "execution_count": 27,
   "id": "2b524d8f-9f6a-4600-9948-e0452f87195c",
   "metadata": {},
   "outputs": [
    {
     "data": {
      "text/plain": [
       "6922     0\n",
       "12708    0\n",
       "8016     0\n",
       "3856     1\n",
       "36       0\n",
       "        ..\n",
       "13494    0\n",
       "5416     0\n",
       "862      1\n",
       "15883    0\n",
       "7307     1\n",
       "Name: target, Length: 11934, dtype: int64"
      ]
     },
     "execution_count": 27,
     "metadata": {},
     "output_type": "execute_result"
    }
   ],
   "source": [
    "y_train"
   ]
  },
  {
   "cell_type": "code",
   "execution_count": 14,
   "id": "a5ad69cf-5d91-462c-9d92-0b761e79e44f",
   "metadata": {},
   "outputs": [],
   "source": [
    "# Define the URL to download the GloVe word vectors file\n",
    "glove_url = \"https://nlp.stanford.edu/data/glove.6B.zip\"\n",
    "\n",
    "# Define the directory to store the downloaded file and the target file name\n",
    "download_dir = \"../data/glove_download\"\n",
    "zip_file_path = os.path.join(download_dir, \"glove.zip\")"
   ]
  },
  {
   "cell_type": "code",
   "execution_count": 15,
   "id": "653215ff-a1fd-41ec-9b4c-8a6ad972778d",
   "metadata": {},
   "outputs": [],
   "source": [
    "import os\n",
    "# Create the download directory if it doesn't exist\n",
    "if not os.path.exists(download_dir):\n",
    "    os.makedirs(download_dir)\n"
   ]
  },
  {
   "cell_type": "code",
   "execution_count": 17,
   "id": "55b18280-fc7f-4371-8bf2-2344ff88c156",
   "metadata": {
    "collapsed": true,
    "jupyter": {
     "outputs_hidden": true
    }
   },
   "outputs": [
    {
     "name": "stdout",
     "output_type": "stream",
     "text": [
      "Downloading GloVe from https://nlp.stanford.edu/data/glove.6B.zip\n"
     ]
    },
    {
     "ename": "KeyboardInterrupt",
     "evalue": "",
     "output_type": "error",
     "traceback": [
      "\u001b[0;31m---------------------------------------------------------------------------\u001b[0m",
      "\u001b[0;31mKeyboardInterrupt\u001b[0m                         Traceback (most recent call last)",
      "Cell \u001b[0;32mIn[17], line 4\u001b[0m\n\u001b[1;32m      2\u001b[0m \u001b[38;5;28;01mif\u001b[39;00m \u001b[38;5;129;01mnot\u001b[39;00m os\u001b[38;5;241m.\u001b[39mpath\u001b[38;5;241m.\u001b[39mexists(zip_file_path):\n\u001b[1;32m      3\u001b[0m     \u001b[38;5;28mprint\u001b[39m(\u001b[38;5;124mf\u001b[39m\u001b[38;5;124m\"\u001b[39m\u001b[38;5;124mDownloading GloVe from \u001b[39m\u001b[38;5;132;01m{\u001b[39;00mglove_url\u001b[38;5;132;01m}\u001b[39;00m\u001b[38;5;124m\"\u001b[39m)\n\u001b[0;32m----> 4\u001b[0m     \u001b[43murllib\u001b[49m\u001b[38;5;241;43m.\u001b[39;49m\u001b[43mrequest\u001b[49m\u001b[38;5;241;43m.\u001b[39;49m\u001b[43murlretrieve\u001b[49m\u001b[43m(\u001b[49m\u001b[43mglove_url\u001b[49m\u001b[43m,\u001b[49m\u001b[43m \u001b[49m\u001b[43mzip_file_path\u001b[49m\u001b[43m)\u001b[49m\n\u001b[1;32m      5\u001b[0m     \u001b[38;5;28mprint\u001b[39m(\u001b[38;5;124m\"\u001b[39m\u001b[38;5;124mDownload complete!\u001b[39m\u001b[38;5;124m\"\u001b[39m)\n",
      "File \u001b[0;32m/Library/Frameworks/Python.framework/Versions/3.10/lib/python3.10/urllib/request.py:270\u001b[0m, in \u001b[0;36murlretrieve\u001b[0;34m(url, filename, reporthook, data)\u001b[0m\n\u001b[1;32m    267\u001b[0m     reporthook(blocknum, bs, size)\n\u001b[1;32m    269\u001b[0m \u001b[38;5;28;01mwhile\u001b[39;00m \u001b[38;5;28;01mTrue\u001b[39;00m:\n\u001b[0;32m--> 270\u001b[0m     block \u001b[38;5;241m=\u001b[39m \u001b[43mfp\u001b[49m\u001b[38;5;241;43m.\u001b[39;49m\u001b[43mread\u001b[49m\u001b[43m(\u001b[49m\u001b[43mbs\u001b[49m\u001b[43m)\u001b[49m\n\u001b[1;32m    271\u001b[0m     \u001b[38;5;28;01mif\u001b[39;00m \u001b[38;5;129;01mnot\u001b[39;00m block:\n\u001b[1;32m    272\u001b[0m         \u001b[38;5;28;01mbreak\u001b[39;00m\n",
      "File \u001b[0;32m/Library/Frameworks/Python.framework/Versions/3.10/lib/python3.10/http/client.py:465\u001b[0m, in \u001b[0;36mHTTPResponse.read\u001b[0;34m(self, amt)\u001b[0m\n\u001b[1;32m    462\u001b[0m \u001b[38;5;28;01mif\u001b[39;00m \u001b[38;5;28mself\u001b[39m\u001b[38;5;241m.\u001b[39mlength \u001b[38;5;129;01mis\u001b[39;00m \u001b[38;5;129;01mnot\u001b[39;00m \u001b[38;5;28;01mNone\u001b[39;00m \u001b[38;5;129;01mand\u001b[39;00m amt \u001b[38;5;241m>\u001b[39m \u001b[38;5;28mself\u001b[39m\u001b[38;5;241m.\u001b[39mlength:\n\u001b[1;32m    463\u001b[0m     \u001b[38;5;66;03m# clip the read to the \"end of response\"\u001b[39;00m\n\u001b[1;32m    464\u001b[0m     amt \u001b[38;5;241m=\u001b[39m \u001b[38;5;28mself\u001b[39m\u001b[38;5;241m.\u001b[39mlength\n\u001b[0;32m--> 465\u001b[0m s \u001b[38;5;241m=\u001b[39m \u001b[38;5;28;43mself\u001b[39;49m\u001b[38;5;241;43m.\u001b[39;49m\u001b[43mfp\u001b[49m\u001b[38;5;241;43m.\u001b[39;49m\u001b[43mread\u001b[49m\u001b[43m(\u001b[49m\u001b[43mamt\u001b[49m\u001b[43m)\u001b[49m\n\u001b[1;32m    466\u001b[0m \u001b[38;5;28;01mif\u001b[39;00m \u001b[38;5;129;01mnot\u001b[39;00m s \u001b[38;5;129;01mand\u001b[39;00m amt:\n\u001b[1;32m    467\u001b[0m     \u001b[38;5;66;03m# Ideally, we would raise IncompleteRead if the content-length\u001b[39;00m\n\u001b[1;32m    468\u001b[0m     \u001b[38;5;66;03m# wasn't satisfied, but it might break compatibility.\u001b[39;00m\n\u001b[1;32m    469\u001b[0m     \u001b[38;5;28mself\u001b[39m\u001b[38;5;241m.\u001b[39m_close_conn()\n",
      "File \u001b[0;32m/Library/Frameworks/Python.framework/Versions/3.10/lib/python3.10/socket.py:705\u001b[0m, in \u001b[0;36mSocketIO.readinto\u001b[0;34m(self, b)\u001b[0m\n\u001b[1;32m    703\u001b[0m \u001b[38;5;28;01mwhile\u001b[39;00m \u001b[38;5;28;01mTrue\u001b[39;00m:\n\u001b[1;32m    704\u001b[0m     \u001b[38;5;28;01mtry\u001b[39;00m:\n\u001b[0;32m--> 705\u001b[0m         \u001b[38;5;28;01mreturn\u001b[39;00m \u001b[38;5;28;43mself\u001b[39;49m\u001b[38;5;241;43m.\u001b[39;49m\u001b[43m_sock\u001b[49m\u001b[38;5;241;43m.\u001b[39;49m\u001b[43mrecv_into\u001b[49m\u001b[43m(\u001b[49m\u001b[43mb\u001b[49m\u001b[43m)\u001b[49m\n\u001b[1;32m    706\u001b[0m     \u001b[38;5;28;01mexcept\u001b[39;00m timeout:\n\u001b[1;32m    707\u001b[0m         \u001b[38;5;28mself\u001b[39m\u001b[38;5;241m.\u001b[39m_timeout_occurred \u001b[38;5;241m=\u001b[39m \u001b[38;5;28;01mTrue\u001b[39;00m\n",
      "File \u001b[0;32m/Library/Frameworks/Python.framework/Versions/3.10/lib/python3.10/ssl.py:1273\u001b[0m, in \u001b[0;36mSSLSocket.recv_into\u001b[0;34m(self, buffer, nbytes, flags)\u001b[0m\n\u001b[1;32m   1269\u001b[0m     \u001b[38;5;28;01mif\u001b[39;00m flags \u001b[38;5;241m!=\u001b[39m \u001b[38;5;241m0\u001b[39m:\n\u001b[1;32m   1270\u001b[0m         \u001b[38;5;28;01mraise\u001b[39;00m \u001b[38;5;167;01mValueError\u001b[39;00m(\n\u001b[1;32m   1271\u001b[0m           \u001b[38;5;124m\"\u001b[39m\u001b[38;5;124mnon-zero flags not allowed in calls to recv_into() on \u001b[39m\u001b[38;5;132;01m%s\u001b[39;00m\u001b[38;5;124m\"\u001b[39m \u001b[38;5;241m%\u001b[39m\n\u001b[1;32m   1272\u001b[0m           \u001b[38;5;28mself\u001b[39m\u001b[38;5;241m.\u001b[39m\u001b[38;5;18m__class__\u001b[39m)\n\u001b[0;32m-> 1273\u001b[0m     \u001b[38;5;28;01mreturn\u001b[39;00m \u001b[38;5;28;43mself\u001b[39;49m\u001b[38;5;241;43m.\u001b[39;49m\u001b[43mread\u001b[49m\u001b[43m(\u001b[49m\u001b[43mnbytes\u001b[49m\u001b[43m,\u001b[49m\u001b[43m \u001b[49m\u001b[43mbuffer\u001b[49m\u001b[43m)\u001b[49m\n\u001b[1;32m   1274\u001b[0m \u001b[38;5;28;01melse\u001b[39;00m:\n\u001b[1;32m   1275\u001b[0m     \u001b[38;5;28;01mreturn\u001b[39;00m \u001b[38;5;28msuper\u001b[39m()\u001b[38;5;241m.\u001b[39mrecv_into(buffer, nbytes, flags)\n",
      "File \u001b[0;32m/Library/Frameworks/Python.framework/Versions/3.10/lib/python3.10/ssl.py:1129\u001b[0m, in \u001b[0;36mSSLSocket.read\u001b[0;34m(self, len, buffer)\u001b[0m\n\u001b[1;32m   1127\u001b[0m \u001b[38;5;28;01mtry\u001b[39;00m:\n\u001b[1;32m   1128\u001b[0m     \u001b[38;5;28;01mif\u001b[39;00m buffer \u001b[38;5;129;01mis\u001b[39;00m \u001b[38;5;129;01mnot\u001b[39;00m \u001b[38;5;28;01mNone\u001b[39;00m:\n\u001b[0;32m-> 1129\u001b[0m         \u001b[38;5;28;01mreturn\u001b[39;00m \u001b[38;5;28;43mself\u001b[39;49m\u001b[38;5;241;43m.\u001b[39;49m\u001b[43m_sslobj\u001b[49m\u001b[38;5;241;43m.\u001b[39;49m\u001b[43mread\u001b[49m\u001b[43m(\u001b[49m\u001b[38;5;28;43mlen\u001b[39;49m\u001b[43m,\u001b[49m\u001b[43m \u001b[49m\u001b[43mbuffer\u001b[49m\u001b[43m)\u001b[49m\n\u001b[1;32m   1130\u001b[0m     \u001b[38;5;28;01melse\u001b[39;00m:\n\u001b[1;32m   1131\u001b[0m         \u001b[38;5;28;01mreturn\u001b[39;00m \u001b[38;5;28mself\u001b[39m\u001b[38;5;241m.\u001b[39m_sslobj\u001b[38;5;241m.\u001b[39mread(\u001b[38;5;28mlen\u001b[39m)\n",
      "\u001b[0;31mKeyboardInterrupt\u001b[0m: "
     ]
    }
   ],
   "source": [
    "# Download the GloVe zip file\n",
    "if not os.path.exists(zip_file_path):\n",
    "    print(f\"Downloading GloVe from {glove_url}\")\n",
    "    urllib.request.urlretrieve(glove_url, zip_file_path)\n",
    "    print(\"Download complete!\")"
   ]
  },
  {
   "cell_type": "code",
   "execution_count": 16,
   "id": "5ee9d06e-526b-463e-b7b8-1fe86f4608e8",
   "metadata": {},
   "outputs": [],
   "source": [
    "# Unzip the GloVe zip file\n",
    "glove_dir = os.path.join(download_dir, \"glove\")\n",
    "if not os.path.exists(glove_dir):\n",
    "    with zipfile.ZipFile(zip_file_path, 'r') as zip_ref:\n",
    "        zip_ref.extractall(glove_dir)\n",
    "    print(f\"GloVe files extracted to {glove_dir}\")"
   ]
  },
  {
   "cell_type": "code",
   "execution_count": 17,
   "id": "007861b7-0d74-45d2-b259-8258815d7675",
   "metadata": {},
   "outputs": [
    {
     "name": "stdout",
     "output_type": "stream",
     "text": [
      "Path to GloVe file: ../data/glove_download/glove/glove.6B.300d.txt\n"
     ]
    }
   ],
   "source": [
    "# Get the path to the glove.6B.300d.txt file\n",
    "glove_file_path = os.path.join(glove_dir, \"glove.6B.300d.txt\")\n",
    "# Check if the file exists\n",
    "if os.path.exists(glove_file_path):\n",
    "    print(f\"Path to GloVe file: {glove_file_path}\")\n",
    "else:\n",
    "    print(\"GloVe file not found!\")"
   ]
  },
  {
   "cell_type": "code",
   "execution_count": 18,
   "id": "13d607bb-5e5b-44a4-ab0e-5e660f8724a8",
   "metadata": {},
   "outputs": [],
   "source": [
    "# Load GloVe word embeddings\n",
    "# glove_50 = \"data/glove_download/glove/glove.6B.50d.txt\"\n",
    "embeddings_dict = {}\n",
    "with open(glove_file_path, 'r', encoding=\"utf-8\") as f:\n",
    "    for line in f:\n",
    "        word, *embedding = line.strip().split()\n",
    "        embeddings_dict[word] = np.array(embedding, dtype=float)\n"
   ]
  },
  {
   "cell_type": "code",
   "execution_count": 19,
   "id": "c2ce1a9f-31d3-44d8-8695-50e0548c18d0",
   "metadata": {},
   "outputs": [
    {
     "data": {
      "text/plain": [
       "400000"
      ]
     },
     "execution_count": 19,
     "metadata": {},
     "output_type": "execute_result"
    }
   ],
   "source": [
    "len(embeddings_dict)"
   ]
  },
  {
   "cell_type": "code",
   "execution_count": 20,
   "id": "c78552fe-d4b8-4529-a30e-b8e801d5de6f",
   "metadata": {},
   "outputs": [
    {
     "data": {
      "text/plain": [
       "['../models/tokenizer.pkl']"
      ]
     },
     "execution_count": 20,
     "metadata": {},
     "output_type": "execute_result"
    }
   ],
   "source": [
    "from keras.preprocessing.text import Tokenizer\n",
    "from keras.preprocessing.sequence import pad_sequences\n",
    "\n",
    "# Create a tokenizer\n",
    "tokenizer = Tokenizer()\n",
    "tokenizer.fit_on_texts(X_train)\n",
    "\n",
    "# Convert the text to sequences of indices\n",
    "X_train_seq = tokenizer.texts_to_sequences(X_train)\n",
    "X_test_seq = tokenizer.texts_to_sequences(X_test)\n",
    "\n",
    "# Pad the sequences so all of them have the same length\n",
    "max_len = 150\n",
    "X_train_seq = pad_sequences(X_train_seq, maxlen=max_len)\n",
    "X_test_seq = pad_sequences(X_test_seq, maxlen=max_len)\n",
    "\n",
    "# Save the tokenizer to a file\n",
    "joblib.dump(tokenizer, '../models/tokenizer.pkl')"
   ]
  },
  {
   "cell_type": "code",
   "execution_count": 21,
   "id": "da2af243-3bfa-4698-a0d0-1dc12bb0c37b",
   "metadata": {},
   "outputs": [],
   "source": [
    "from keras.layers import Embedding\n",
    "\n",
    "# Create an embedding matrix\n",
    "word_index = tokenizer.word_index\n",
    "embedding_matrix = np.zeros((len(word_index) + 1, 300))\n",
    "for word, i in word_index.items():\n",
    "    embedding_vector = embeddings_dict.get(word)\n",
    "    if embedding_vector is not None:\n",
    "        embedding_matrix[i] = embedding_vector"
   ]
  },
  {
   "cell_type": "code",
   "execution_count": 22,
   "id": "7c3b6593-61de-47b1-9b97-7ebc9692f7c6",
   "metadata": {},
   "outputs": [
    {
     "name": "stderr",
     "output_type": "stream",
     "text": [
      "/Users/drainasr-edine/github/ingenieur_ia/P7_drai_nasr-edine_app/.venv2/lib/python3.10/site-packages/pydantic/_internal/_fields.py:128: UserWarning: Field \"model_server_url\" has conflict with protected namespace \"model_\".\n",
      "\n",
      "You may be able to resolve this warning by setting `model_config['protected_namespaces'] = ()`.\n",
      "  warnings.warn(\n",
      "/Users/drainasr-edine/github/ingenieur_ia/P7_drai_nasr-edine_app/.venv2/lib/python3.10/site-packages/pydantic/_internal/_config.py:317: UserWarning: Valid config keys have changed in V2:\n",
      "* 'schema_extra' has been renamed to 'json_schema_extra'\n",
      "  warnings.warn(message, UserWarning)\n"
     ]
    },
    {
     "data": {
      "text/plain": [
       "<Experiment: artifact_location='file:///Users/drainasr-edine/github/ingenieur_ia/P7_drai_nasr-edine_app/notebooks/mlruns/533166044865263743', creation_time=1695934009457, experiment_id='533166044865263743', last_update_time=1695934009457, lifecycle_stage='active', name='lstm_model', tags={}>"
      ]
     },
     "execution_count": 22,
     "metadata": {},
     "output_type": "execute_result"
    }
   ],
   "source": [
    "import mlflow\n",
    "\n",
    "# Check if the experiment exists, and if not, create it\n",
    "experiment_name = \"lstm_model\"\n",
    "if not mlflow.get_experiment_by_name(experiment_name):\n",
    "    mlflow.create_experiment(experiment_name)\n",
    "\n",
    "mlflow.set_experiment(experiment_name)"
   ]
  },
  {
   "cell_type": "code",
   "execution_count": 23,
   "id": "089c4afc-ffbf-4641-99de-46111fda8715",
   "metadata": {},
   "outputs": [
    {
     "data": {
      "text/plain": [
       "<ActiveRun: >"
      ]
     },
     "execution_count": 23,
     "metadata": {},
     "output_type": "execute_result"
    }
   ],
   "source": [
    "mlflow.start_run(description=\"lstm_model\")"
   ]
  },
  {
   "cell_type": "code",
   "execution_count": 31,
   "id": "79ef7008-7de8-43b2-92d0-b1f04357323a",
   "metadata": {},
   "outputs": [],
   "source": [
    "model = Sequential()\n",
    "model.add(Embedding(len(word_index) + 1, 300, weights=[embedding_matrix], input_length=max_len, trainable=False))\n",
    "model.add(Dropout(0.5))\n",
    "model.add(LSTM(100, dropout=0.2, recurrent_dropout=0.2))\n",
    "# model.add(Dense(1, activation='sigmoid'))\n",
    "model.add(Dense(2, activation='softmax'))\n"
   ]
  },
  {
   "cell_type": "code",
   "execution_count": 32,
   "id": "8a105d6a-d41f-4790-bcca-3f923c4c121d",
   "metadata": {},
   "outputs": [
    {
     "name": "stdout",
     "output_type": "stream",
     "text": [
      "Model: \"sequential_1\"\n",
      "_________________________________________________________________\n",
      " Layer (type)                Output Shape              Param #   \n",
      "=================================================================\n",
      " embedding_1 (Embedding)     (None, 150, 300)          4593300   \n",
      "                                                                 \n",
      " dropout_1 (Dropout)         (None, 150, 300)          0         \n",
      "                                                                 \n",
      " lstm_1 (LSTM)               (None, 100)               160400    \n",
      "                                                                 \n",
      " dense_1 (Dense)             (None, 2)                 202       \n",
      "                                                                 \n",
      "=================================================================\n",
      "Total params: 4753902 (18.13 MB)\n",
      "Trainable params: 160602 (627.35 KB)\n",
      "Non-trainable params: 4593300 (17.52 MB)\n",
      "_________________________________________________________________\n",
      "None\n"
     ]
    }
   ],
   "source": [
    "# model.compile(loss='binary_crossentropy', optimizer='adam', metrics=['accuracy'])\n",
    "model.compile(loss='categorical_crossentropy', optimizer='adam', metrics=['accuracy'])\n",
    "\n",
    "print(model.summary())\n"
   ]
  },
  {
   "cell_type": "code",
   "execution_count": 33,
   "id": "c90d6b14-193b-4f36-8dfc-41c30fbe9820",
   "metadata": {},
   "outputs": [
    {
     "name": "stdout",
     "output_type": "stream",
     "text": [
      "Epoch 1/8\n",
      "12/12 [==============================] - 52s 4s/step - loss: 0.6662 - accuracy: 0.5897 - val_loss: 0.6128 - val_accuracy: 0.6805\n",
      "Epoch 2/8\n",
      "12/12 [==============================] - 48s 4s/step - loss: 0.6177 - accuracy: 0.6567 - val_loss: 0.5901 - val_accuracy: 0.6943\n",
      "Epoch 3/8\n",
      "12/12 [==============================] - 46s 4s/step - loss: 0.6009 - accuracy: 0.6771 - val_loss: 0.5641 - val_accuracy: 0.7104\n",
      "Epoch 4/8\n",
      "12/12 [==============================] - 45s 4s/step - loss: 0.5922 - accuracy: 0.6802 - val_loss: 0.5604 - val_accuracy: 0.7107\n",
      "Epoch 5/8\n",
      "12/12 [==============================] - 43s 4s/step - loss: 0.5875 - accuracy: 0.6833 - val_loss: 0.5602 - val_accuracy: 0.7081\n",
      "Epoch 6/8\n",
      "12/12 [==============================] - 45s 4s/step - loss: 0.5802 - accuracy: 0.6949 - val_loss: 0.5534 - val_accuracy: 0.7212\n",
      "Epoch 7/8\n",
      "12/12 [==============================] - 49s 4s/step - loss: 0.5777 - accuracy: 0.6964 - val_loss: 0.5527 - val_accuracy: 0.7207\n",
      "Epoch 8/8\n",
      "12/12 [==============================] - 47s 4s/step - loss: 0.5739 - accuracy: 0.6955 - val_loss: 0.5486 - val_accuracy: 0.7290\n"
     ]
    }
   ],
   "source": [
    "# Train the model\n",
    "history = model.fit(X_train_seq, y_train_one_hot, epochs=8, batch_size=1024, validation_data=(X_test_seq, y_test_one_hot))\n"
   ]
  },
  {
   "cell_type": "code",
   "execution_count": 34,
   "id": "40de804b-a4e4-4d8a-8b24-9fc3a5121d73",
   "metadata": {},
   "outputs": [
    {
     "data": {
      "text/plain": [
       "['../models/lstm_model_glove.pkl']"
      ]
     },
     "execution_count": 34,
     "metadata": {},
     "output_type": "execute_result"
    }
   ],
   "source": [
    "joblib.dump(model, '../models/lstm_model_glove.pkl')\n"
   ]
  },
  {
   "cell_type": "code",
   "execution_count": 36,
   "id": "f8abcb9a-a5e0-4de3-965d-5575d42d6ef1",
   "metadata": {},
   "outputs": [
    {
     "name": "stdout",
     "output_type": "stream",
     "text": [
      "125/125 [==============================] - 6s 47ms/step - loss: 0.5486 - accuracy: 0.7290\n",
      "Accuracy: 72.90%\n"
     ]
    }
   ],
   "source": [
    "# Evaluate the model on the test set\n",
    "loss, accuracy = model.evaluate(X_test_seq, y_test_one_hot)\n",
    "print(f'Accuracy: {accuracy * 100:.2f}%')"
   ]
  },
  {
   "cell_type": "code",
   "execution_count": 37,
   "id": "92869625-b75d-43d3-b50d-505fb774dabe",
   "metadata": {},
   "outputs": [
    {
     "data": {
      "image/png": "[encoded data removed]",
      "text/plain": [
       "<Figure size 640x480 with 1 Axes>"
      ]
     },
     "metadata": {},
     "output_type": "display_data"
    }
   ],
   "source": [
    "plt.plot(history.history['accuracy'], c= 'b')\n",
    "plt.plot(history.history['val_accuracy'], c='r')\n",
    "plt.title('Accuracy Plot')\n",
    "plt.ylabel('Accuracy')\n",
    "plt.xlabel('Epoch')\n",
    "plt.legend(['LSTM_train', 'LSTM_val'], loc='upper left')\n",
    "plt.savefig('../imgs/accuracy_plot.png')\n",
    "mlflow.log_artifact('../imgs/accuracy_plot.png')\n",
    "\n",
    "plt.show()\n"
   ]
  },
  {
   "cell_type": "code",
   "execution_count": 38,
   "id": "905c8158-fd58-4d15-a0d8-a93eff1ea448",
   "metadata": {},
   "outputs": [
    {
     "data": {
      "image/png": "[encoded data removed]",
      "text/plain": [
       "<Figure size 640x480 with 1 Axes>"
      ]
     },
     "metadata": {},
     "output_type": "display_data"
    }
   ],
   "source": [
    "\n",
    "plt.plot(history.history['loss'], c='m')\n",
    "plt.plot(history.history['val_loss'], c='c')\n",
    "plt.title('Loss Plot')\n",
    "plt.ylabel('Loss')\n",
    "plt.xlabel('Epoch')\n",
    "plt.legend(['train', 'val'], loc = 'upper left')\n",
    "plt.savefig('../imgs/loss_plot.png')\n",
    "mlflow.log_artifact('../imgs/loss_plot.png')\n",
    "plt.show()\n"
   ]
  },
  {
   "cell_type": "code",
   "execution_count": 39,
   "id": "52b3bbcf-3c5b-4aa4-8256-a74026b43190",
   "metadata": {},
   "outputs": [],
   "source": [
    "# Track your experiment with MLflow\n",
    "mlflow.log_metrics({'accuracy': accuracy})\n",
    "mlflow.log_metrics({'loss': loss})"
   ]
  },
  {
   "cell_type": "code",
   "execution_count": 40,
   "id": "ed08bf19-8585-4103-9bff-128b94784e93",
   "metadata": {},
   "outputs": [],
   "source": [
    "# Log hyperparameters\n",
    "mlflow.log_params({'input_dim': len(word_index), 'output_dim': 300, 'input_length': max_len})\n",
    "mlflow.log_params({'epochs': 8, 'batch_size': 1024})\n"
   ]
  },
  {
   "cell_type": "code",
   "execution_count": 41,
   "id": "0a20163a-865d-468c-825b-fc3a85a46b7b",
   "metadata": {},
   "outputs": [],
   "source": [
    "# Save the model to a file\n",
    "mlflow.log_artifact('../models/lstm_model_glove.pkl')"
   ]
  },
  {
   "cell_type": "code",
   "execution_count": 42,
   "id": "5a033544-216f-4317-8bed-8f62c9471621",
   "metadata": {},
   "outputs": [],
   "source": [
    "mlflow.end_run()"
   ]
  },
  {
   "cell_type": "code",
   "execution_count": 40,
   "id": "e3613007-67ff-4f75-8e34-57a77ad8071e",
   "metadata": {},
   "outputs": [
    {
     "name": "stdout",
     "output_type": "stream",
     "text": [
      "/Users/drainasr-edine/github/ingenieur_ia/P7_drai_nasr-edine_app/.venv2/lib/python3.10/site-packages/pydantic/_internal/_fields.py:128: UserWarning: Field \"model_server_url\" has conflict with protected namespace \"model_\".\n",
      "\n",
      "You may be able to resolve this warning by setting `model_config['protected_namespaces'] = ()`.\n",
      "  warnings.warn(\n",
      "/Users/drainasr-edine/github/ingenieur_ia/P7_drai_nasr-edine_app/.venv2/lib/python3.10/site-packages/pydantic/_internal/_config.py:317: UserWarning: Valid config keys have changed in V2:\n",
      "* 'schema_extra' has been renamed to 'json_schema_extra'\n",
      "  warnings.warn(message, UserWarning)\n",
      "[2023-09-28 23:00:12 +0200] [43360] [INFO] Starting gunicorn 21.2.0\n",
      "[2023-09-28 23:00:12 +0200] [43360] [INFO] Listening at: http://127.0.0.1:5000 (43360)\n",
      "[2023-09-28 23:00:12 +0200] [43360] [INFO] Using worker: sync\n",
      "[2023-09-28 23:00:12 +0200] [43361] [INFO] Booting worker with pid: 43361\n",
      "[2023-09-28 23:00:12 +0200] [43362] [INFO] Booting worker with pid: 43362\n",
      "[2023-09-28 23:00:12 +0200] [43363] [INFO] Booting worker with pid: 43363\n",
      "[2023-09-28 23:00:12 +0200] [43364] [INFO] Booting worker with pid: 43364\n",
      "/Users/drainasr-edine/github/ingenieur_ia/P7_drai_nasr-edine_app/.venv2/lib/python3.10/site-packages/pydantic/_internal/_fields.py:128: UserWarning: Field \"model_server_url\" has conflict with protected namespace \"model_\".\n",
      "\n",
      "You may be able to resolve this warning by setting `model_config['protected_namespaces'] = ()`.\n",
      "  warnings.warn(\n",
      "/Users/drainasr-edine/github/ingenieur_ia/P7_drai_nasr-edine_app/.venv2/lib/python3.10/site-packages/pydantic/_internal/_fields.py:128: UserWarning: Field \"model_server_url\" has conflict with protected namespace \"model_\".\n",
      "\n",
      "You may be able to resolve this warning by setting `model_config['protected_namespaces'] = ()`.\n",
      "  warnings.warn(\n",
      "/Users/drainasr-edine/github/ingenieur_ia/P7_drai_nasr-edine_app/.venv2/lib/python3.10/site-packages/pydantic/_internal/_config.py:317: UserWarning: Valid config keys have changed in V2:\n",
      "* 'schema_extra' has been renamed to 'json_schema_extra'\n",
      "  warnings.warn(message, UserWarning)\n",
      "/Users/drainasr-edine/github/ingenieur_ia/P7_drai_nasr-edine_app/.venv2/lib/python3.10/site-packages/pydantic/_internal/_config.py:317: UserWarning: Valid config keys have changed in V2:\n",
      "* 'schema_extra' has been renamed to 'json_schema_extra'\n",
      "  warnings.warn(message, UserWarning)\n",
      "/Users/drainasr-edine/github/ingenieur_ia/P7_drai_nasr-edine_app/.venv2/lib/python3.10/site-packages/pydantic/_internal/_fields.py:128: UserWarning: Field \"model_server_url\" has conflict with protected namespace \"model_\".\n",
      "\n",
      "You may be able to resolve this warning by setting `model_config['protected_namespaces'] = ()`.\n",
      "  warnings.warn(\n",
      "/Users/drainasr-edine/github/ingenieur_ia/P7_drai_nasr-edine_app/.venv2/lib/python3.10/site-packages/pydantic/_internal/_config.py:317: UserWarning: Valid config keys have changed in V2:\n",
      "* 'schema_extra' has been renamed to 'json_schema_extra'\n",
      "  warnings.warn(message, UserWarning)\n",
      "/Users/drainasr-edine/github/ingenieur_ia/P7_drai_nasr-edine_app/.venv2/lib/python3.10/site-packages/pydantic/_internal/_fields.py:128: UserWarning: Field \"model_server_url\" has conflict with protected namespace \"model_\".\n",
      "\n",
      "You may be able to resolve this warning by setting `model_config['protected_namespaces'] = ()`.\n",
      "  warnings.warn(\n",
      "/Users/drainasr-edine/github/ingenieur_ia/P7_drai_nasr-edine_app/.venv2/lib/python3.10/site-packages/pydantic/_internal/_config.py:317: UserWarning: Valid config keys have changed in V2:\n",
      "* 'schema_extra' has been renamed to 'json_schema_extra'\n",
      "  warnings.warn(message, UserWarning)\n",
      "^C\n",
      "[2023-09-28 23:00:47 +0200] [43360] [INFO] Handling signal: int\n",
      "[2023-09-28 23:00:47 +0200] [43361] [INFO] Worker exiting (pid: 43361)\n",
      "[2023-09-28 23:00:47 +0200] [43362] [INFO] Worker exiting (pid: 43362)\n",
      "[2023-09-28 23:00:47 +0200] [43364] [INFO] Worker exiting (pid: 43364)\n",
      "[2023-09-28 23:00:47 +0200] [43363] [INFO] Worker exiting (pid: 43363)\n"
     ]
    }
   ],
   "source": [
    "!mlflow ui"
   ]
  }
 ],
 "metadata": {
  "kernelspec": {
   "display_name": "Python 3 (ipykernel)",
   "language": "python",
   "name": "python3"
  },
  "language_info": {
   "codemirror_mode": {
    "name": "ipython",
    "version": 3
   },
   "file_extension": ".py",
   "mimetype": "text/x-python",
   "name": "python",
   "nbconvert_exporter": "python",
   "pygments_lexer": "ipython3",
   "version": "3.10.1"
  }
 },
 "nbformat": 4,
 "nbformat_minor": 5
}
