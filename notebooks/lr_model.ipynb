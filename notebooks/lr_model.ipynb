{
 "cells": [
  {
   "cell_type": "code",
   "execution_count": 59,
   "id": "69a2a38b-a873-4181-91d5-2e8abaaf8e8e",
   "metadata": {},
   "outputs": [],
   "source": [
    "import os\n",
    "import sys\n",
    "import re\n",
    "import string\n",
    "import glob\n",
    "import joblib\n",
    "import pandas as pd\n",
    "\n",
    "from unidecode import unidecode\n",
    "from nltk.tokenize import word_tokenize\n",
    "from nltk.corpus import stopwords\n",
    "import spacy\n",
    "\n",
    "output_dir = \"../data/sentiment140\"\n",
    "DATASET_COLUMNS = [\"target\", \"ids\", \"date\", \"flag\", \"user\", \"text\"]\n",
    "DATASET_ENCODING = \"ISO-8859-1\"\n",
    "\n",
    "\n",
    "sys.path.append(os.path.abspath('..'))\n",
    "from text_processing_utils import preprocess_text"
   ]
  },
  {
   "cell_type": "code",
   "execution_count": 60,
   "id": "c411906e-835b-40b4-a566-9a9492ad0a9a",
   "metadata": {},
   "outputs": [
    {
     "name": "stdout",
     "output_type": "stream",
     "text": [
      "../data/sentiment140/debug16000.csv\n",
      "../data/sentiment140/debug1600.csv\n",
      "../data/sentiment140/training.1600000.processed.noemoticon.csv\n",
      "../data/sentiment140/debug.csv\n",
      "../data/sentiment140/debug160000.csv\n"
     ]
    }
   ],
   "source": [
    "# Use glob to get a list of CSV files in the directory\n",
    "csv_files = glob.glob(f'{output_dir}/*.csv')\n",
    "\n",
    "# Now, csv_files contains a list of paths to all CSV files in the directory\n",
    "for csv_file in csv_files:\n",
    "    print(csv_file)"
   ]
  },
  {
   "cell_type": "code",
   "execution_count": 61,
   "id": "441b6542-a6ca-4335-9444-e951b18114f9",
   "metadata": {},
   "outputs": [
    {
     "data": {
      "text/html": [
       "<div>\n",
       "<style scoped>\n",
       "    .dataframe tbody tr th:only-of-type {\n",
       "        vertical-align: middle;\n",
       "    }\n",
       "\n",
       "    .dataframe tbody tr th {\n",
       "        vertical-align: top;\n",
       "    }\n",
       "\n",
       "    .dataframe thead th {\n",
       "        text-align: right;\n",
       "    }\n",
       "</style>\n",
       "<table border=\"1\" class=\"dataframe\">\n",
       "  <thead>\n",
       "    <tr style=\"text-align: right;\">\n",
       "      <th></th>\n",
       "      <th>target</th>\n",
       "      <th>ids</th>\n",
       "      <th>date</th>\n",
       "      <th>flag</th>\n",
       "      <th>user</th>\n",
       "      <th>text</th>\n",
       "    </tr>\n",
       "  </thead>\n",
       "  <tbody>\n",
       "    <tr>\n",
       "      <th>0</th>\n",
       "      <td>4</td>\n",
       "      <td>1957099063</td>\n",
       "      <td>Thu May 28 23:30:53 PDT 2009</td>\n",
       "      <td>NO_QUERY</td>\n",
       "      <td>Dopplertom</td>\n",
       "      <td>@addyx21 My imaginary girlfriend and We Harras...</td>\n",
       "    </tr>\n",
       "    <tr>\n",
       "      <th>1</th>\n",
       "      <td>0</td>\n",
       "      <td>2063777023</td>\n",
       "      <td>Sun Jun 07 04:01:58 PDT 2009</td>\n",
       "      <td>NO_QUERY</td>\n",
       "      <td>anapostrero</td>\n",
       "      <td>hey stephen, i miss you and your undershirt  a...</td>\n",
       "    </tr>\n",
       "    <tr>\n",
       "      <th>2</th>\n",
       "      <td>0</td>\n",
       "      <td>1996566132</td>\n",
       "      <td>Mon Jun 01 15:18:05 PDT 2009</td>\n",
       "      <td>NO_QUERY</td>\n",
       "      <td>ayaueda</td>\n",
       "      <td>ya no pude ver el zapping zone completo...  ashsh</td>\n",
       "    </tr>\n",
       "  </tbody>\n",
       "</table>\n",
       "</div>"
      ],
      "text/plain": [
       "   target         ids                          date      flag         user  \\\n",
       "0       4  1957099063  Thu May 28 23:30:53 PDT 2009  NO_QUERY   Dopplertom   \n",
       "1       0  2063777023  Sun Jun 07 04:01:58 PDT 2009  NO_QUERY  anapostrero   \n",
       "2       0  1996566132  Mon Jun 01 15:18:05 PDT 2009  NO_QUERY      ayaueda   \n",
       "\n",
       "                                                text  \n",
       "0  @addyx21 My imaginary girlfriend and We Harras...  \n",
       "1  hey stephen, i miss you and your undershirt  a...  \n",
       "2  ya no pude ver el zapping zone completo...  ashsh  "
      ]
     },
     "execution_count": 61,
     "metadata": {},
     "output_type": "execute_result"
    }
   ],
   "source": [
    "# Read the CSV file into a DataFrame with the specified encoding and column names\n",
    "df = pd.read_csv(csv_files[0], encoding=DATASET_ENCODING)\n",
    "\n",
    "# Display the first few rows of the DataFrame to check the data\n",
    "df.head(3)\n"
   ]
  },
  {
   "cell_type": "code",
   "execution_count": 62,
   "id": "9b76069e-641b-4948-946e-4141e40c5c1a",
   "metadata": {},
   "outputs": [
    {
     "name": "stdout",
     "output_type": "stream",
     "text": [
      "<class 'pandas.core.frame.DataFrame'>\n",
      "RangeIndex: 16000 entries, 0 to 15999\n",
      "Data columns (total 6 columns):\n",
      " #   Column  Non-Null Count  Dtype \n",
      "---  ------  --------------  ----- \n",
      " 0   target  16000 non-null  int64 \n",
      " 1   ids     16000 non-null  int64 \n",
      " 2   date    16000 non-null  object\n",
      " 3   flag    16000 non-null  object\n",
      " 4   user    16000 non-null  object\n",
      " 5   text    16000 non-null  object\n",
      "dtypes: int64(2), object(4)\n",
      "memory usage: 750.1+ KB\n"
     ]
    }
   ],
   "source": [
    "df.info()"
   ]
  },
  {
   "cell_type": "code",
   "execution_count": 64,
   "id": "c4163b8f-24fe-4325-8120-50a5b40ae56c",
   "metadata": {
    "scrolled": true
   },
   "outputs": [],
   "source": [
    "df[\"target\"] = df[\"target\"].replace(4, 1)\n",
    "df['text'] = df['text'].apply(preprocess_text)\n",
    "df = df[['text', 'target']]"
   ]
  },
  {
   "cell_type": "code",
   "execution_count": 65,
   "id": "a26a3dfd-bb07-4d6f-87d0-99e5820181ae",
   "metadata": {},
   "outputs": [
    {
     "data": {
      "text/html": [
       "<div>\n",
       "<style scoped>\n",
       "    .dataframe tbody tr th:only-of-type {\n",
       "        vertical-align: middle;\n",
       "    }\n",
       "\n",
       "    .dataframe tbody tr th {\n",
       "        vertical-align: top;\n",
       "    }\n",
       "\n",
       "    .dataframe thead th {\n",
       "        text-align: right;\n",
       "    }\n",
       "</style>\n",
       "<table border=\"1\" class=\"dataframe\">\n",
       "  <thead>\n",
       "    <tr style=\"text-align: right;\">\n",
       "      <th></th>\n",
       "      <th>text</th>\n",
       "      <th>target</th>\n",
       "    </tr>\n",
       "  </thead>\n",
       "  <tbody>\n",
       "    <tr>\n",
       "      <th>0</th>\n",
       "      <td>imaginary girlfriend harrassing people class lmao</td>\n",
       "      <td>1</td>\n",
       "    </tr>\n",
       "    <tr>\n",
       "      <th>1</th>\n",
       "      <td>hey stephen miss undershirt ohso kewl shoe</td>\n",
       "      <td>0</td>\n",
       "    </tr>\n",
       "    <tr>\n",
       "      <th>2</th>\n",
       "      <td>ya pude ver el zapping zone completo ashsh</td>\n",
       "      <td>0</td>\n",
       "    </tr>\n",
       "    <tr>\n",
       "      <th>3</th>\n",
       "      <td>morning everyone</td>\n",
       "      <td>1</td>\n",
       "    </tr>\n",
       "    <tr>\n",
       "      <th>4</th>\n",
       "      <td>heyy watchin hill hope jayde worked everythin ...</td>\n",
       "      <td>1</td>\n",
       "    </tr>\n",
       "    <tr>\n",
       "      <th>5</th>\n",
       "      <td>yep london week learning bn delicious turkish ...</td>\n",
       "      <td>1</td>\n",
       "    </tr>\n",
       "    <tr>\n",
       "      <th>6</th>\n",
       "      <td>wan na see transformer midnight dayum lol</td>\n",
       "      <td>0</td>\n",
       "    </tr>\n",
       "    <tr>\n",
       "      <th>7</th>\n",
       "      <td>well fun getting pool ready intense workout ta...</td>\n",
       "      <td>1</td>\n",
       "    </tr>\n",
       "    <tr>\n",
       "      <th>8</th>\n",
       "      <td>gave tom bradley high school student cave demo...</td>\n",
       "      <td>1</td>\n",
       "    </tr>\n",
       "    <tr>\n",
       "      <th>9</th>\n",
       "      <td>hour nap mean staying late</td>\n",
       "      <td>1</td>\n",
       "    </tr>\n",
       "  </tbody>\n",
       "</table>\n",
       "</div>"
      ],
      "text/plain": [
       "                                                text  target\n",
       "0  imaginary girlfriend harrassing people class lmao       1\n",
       "1         hey stephen miss undershirt ohso kewl shoe       0\n",
       "2         ya pude ver el zapping zone completo ashsh       0\n",
       "3                                   morning everyone       1\n",
       "4  heyy watchin hill hope jayde worked everythin ...       1\n",
       "5  yep london week learning bn delicious turkish ...       1\n",
       "6          wan na see transformer midnight dayum lol       0\n",
       "7  well fun getting pool ready intense workout ta...       1\n",
       "8  gave tom bradley high school student cave demo...       1\n",
       "9                         hour nap mean staying late       1"
      ]
     },
     "execution_count": 65,
     "metadata": {},
     "output_type": "execute_result"
    }
   ],
   "source": [
    "df.head(10)"
   ]
  },
  {
   "cell_type": "code",
   "execution_count": 66,
   "id": "920dc3d3-4b42-4e6c-9c2c-3f6a936ebe15",
   "metadata": {},
   "outputs": [],
   "source": [
    "# Save the preprocessed DataFrame to a CSV file\n",
    "df.to_csv('../data/preprocessed_df16000.csv', index=False)\n"
   ]
  },
  {
   "cell_type": "code",
   "execution_count": 67,
   "id": "d641a485-a16e-4414-b321-8283f368814b",
   "metadata": {},
   "outputs": [
    {
     "name": "stdout",
     "output_type": "stream",
     "text": [
      "<class 'pandas.core.frame.DataFrame'>\n",
      "Index: 15928 entries, 0 to 15999\n",
      "Data columns (total 2 columns):\n",
      " #   Column  Non-Null Count  Dtype \n",
      "---  ------  --------------  ----- \n",
      " 0   text    15928 non-null  object\n",
      " 1   target  15928 non-null  int64 \n",
      "dtypes: int64(1), object(1)\n",
      "memory usage: 373.3+ KB\n"
     ]
    }
   ],
   "source": [
    "# Load the preprocessed DataFrame\n",
    "df = pd.read_csv('../data/preprocessed_df16000.csv')\n",
    "# Remove rows with NaN values in the text column\n",
    "df = df.dropna(how='any', subset=['text'])\n",
    "\n",
    "# Print the DataFrame\n",
    "df.info()\n"
   ]
  },
  {
   "cell_type": "code",
   "execution_count": 68,
   "id": "df40b4e3-b7eb-4700-b4ad-3f061a1e1a6f",
   "metadata": {},
   "outputs": [],
   "source": [
    "tweet_df = df.copy()"
   ]
  },
  {
   "cell_type": "code",
   "execution_count": 69,
   "id": "1c985b67-eaa9-4a8b-8c62-865e9d537852",
   "metadata": {},
   "outputs": [],
   "source": [
    "from sklearn.model_selection import train_test_split\n",
    "\n",
    "# Split the data into training (95%) and test (5%) sets\n",
    "X_train, X_test, y_train, y_test = train_test_split(tweet_df['text'], tweet_df['target'], test_size=0.25, random_state=42)"
   ]
  },
  {
   "cell_type": "code",
   "execution_count": 9,
   "id": "fd9cda64-b7c3-4f03-88b1-138a0fd0818f",
   "metadata": {},
   "outputs": [
    {
     "data": {
      "text/plain": [
       "12000"
      ]
     },
     "metadata": {},
     "output_type": "display_data"
    },
    {
     "data": {
      "text/plain": [
       "4000"
      ]
     },
     "metadata": {},
     "output_type": "display_data"
    },
    {
     "data": {
      "text/plain": [
       "12000"
      ]
     },
     "metadata": {},
     "output_type": "display_data"
    },
    {
     "data": {
      "text/plain": [
       "4000"
      ]
     },
     "metadata": {},
     "output_type": "display_data"
    }
   ],
   "source": [
    "display(len(X_train))\n",
    "display(len(X_test))\n",
    "display(len(y_train))\n",
    "display(len(y_test))"
   ]
  },
  {
   "cell_type": "code",
   "execution_count": 70,
   "id": "199d5d9d-aad3-4737-935c-00a5d176bf95",
   "metadata": {},
   "outputs": [
    {
     "name": "stdout",
     "output_type": "stream",
     "text": [
      "No. of feature_words:  15190\n"
     ]
    },
    {
     "data": {
      "text/plain": [
       "['../models/tfidf_vectorizer.pkl']"
      ]
     },
     "execution_count": 70,
     "metadata": {},
     "output_type": "execute_result"
    }
   ],
   "source": [
    "from sklearn.feature_extraction.text import TfidfVectorizer\n",
    "\n",
    "# Create an instance of TfidfVectorizer\n",
    "tfidf_vectorizer = TfidfVectorizer(max_features=500000)\n",
    "\n",
    "# Fit and transform the training data\n",
    "X_train_tfidf = tfidf_vectorizer.fit_transform(X_train)\n",
    "\n",
    "# Transform the test data using the same vectorizer\n",
    "X_test_tfidf = tfidf_vectorizer.transform(X_test)\n",
    "\n",
    "print('No. of feature_words: ', len(tfidf_vectorizer.get_feature_names_out()))\n",
    "\n",
    "# Save the vectorizer to a file\n",
    "joblib.dump(tfidf_vectorizer, '../models/tfidf_vectorizer.pkl')"
   ]
  },
  {
   "cell_type": "code",
   "execution_count": 71,
   "id": "af084d51-99fd-478f-9538-c45f027eee9d",
   "metadata": {},
   "outputs": [
    {
     "data": {
      "text/plain": [
       "<Experiment: artifact_location='file:///Users/drainasr-edine/github/ingenieur_ia/P7_drai_nasr-edine_app/notebooks/mlruns/933793910151989371', creation_time=1695932502553, experiment_id='933793910151989371', last_update_time=1695932502553, lifecycle_stage='active', name='logistic_regression', tags={}>"
      ]
     },
     "execution_count": 71,
     "metadata": {},
     "output_type": "execute_result"
    }
   ],
   "source": [
    "import mlflow\n",
    "\n",
    "# Check if the experiment exists, and if not, create it\n",
    "experiment_name = \"logistic_regression\"\n",
    "if not mlflow.get_experiment_by_name(experiment_name):\n",
    "    mlflow.create_experiment(experiment_name)\n",
    "\n",
    "mlflow.set_experiment(experiment_name)"
   ]
  },
  {
   "cell_type": "code",
   "execution_count": 72,
   "id": "462547be-c3fd-4fda-997e-f339c83279aa",
   "metadata": {},
   "outputs": [
    {
     "data": {
      "text/plain": [
       "<ActiveRun: >"
      ]
     },
     "execution_count": 72,
     "metadata": {},
     "output_type": "execute_result"
    }
   ],
   "source": [
    "mlflow.start_run(description=\"lr model\")"
   ]
  },
  {
   "cell_type": "code",
   "execution_count": 73,
   "id": "effbcf49-d251-47dc-afd4-4346b66cf772",
   "metadata": {},
   "outputs": [
    {
     "name": "stdout",
     "output_type": "stream",
     "text": [
      "Training Time: 1.18 seconds\n",
      "Prediction Time: 0.00 seconds\n",
      "Accuracy: 0.7280261175288799\n",
      "Classification Report:\n",
      "              precision    recall  f1-score   support\n",
      "\n",
      "           0       0.73      0.72      0.72      1976\n",
      "           1       0.73      0.74      0.73      2006\n",
      "\n",
      "    accuracy                           0.73      3982\n",
      "   macro avg       0.73      0.73      0.73      3982\n",
      "weighted avg       0.73      0.73      0.73      3982\n",
      "\n"
     ]
    }
   ],
   "source": [
    "import time\n",
    "import joblib\n",
    "\n",
    "from sklearn.linear_model import LogisticRegression\n",
    "from sklearn.metrics import accuracy_score, classification_report\n",
    "\n",
    "# Create a Logistic Regression model\n",
    "model = LogisticRegression(C = 2, max_iter = 1000, n_jobs=-1)\n",
    "# Measure the time elapsed for training\n",
    "start_time = time.time()\n",
    "model.fit(X_train_tfidf, y_train)\n",
    "training_time = time.time() - start_time\n",
    "joblib.dump(model, '../models/logistic_model.pkl')\n",
    "\n",
    "# Log training time as a parameter\n",
    "mlflow.log_param(\"Training_Time\", training_time)\n",
    "# Make predictions on the test data\n",
    "start_time = time.time()\n",
    "y_pred = model.predict(X_test_tfidf)\n",
    "prediction_time = time.time() - start_time\n",
    "# Log prediction time as a parameter\n",
    "mlflow.log_param(\"Prediction_Time\", prediction_time)\n",
    "# Evaluate the model\n",
    "accuracy = accuracy_score(y_test, y_pred)\n",
    "report = classification_report(y_test, y_pred)\n",
    "\n",
    "# Print the results including training and prediction times\n",
    "print(f\"Training Time: {training_time:.2f} seconds\")\n",
    "print(f\"Prediction Time: {prediction_time:.2f} seconds\")\n",
    "print(f\"Accuracy: {accuracy}\")\n",
    "print(\"Classification Report:\")\n",
    "print(report)"
   ]
  },
  {
   "cell_type": "code",
   "execution_count": 74,
   "id": "a729bf36-9d3b-46be-927b-b30cdeb8386d",
   "metadata": {},
   "outputs": [
    {
     "name": "stdout",
     "output_type": "stream",
     "text": [
      "Training Time: 1.18 seconds\n",
      "Prediction Time: 0.00 seconds\n",
      "Accuracy: 0.7280261175288799\n",
      "Classification Report:\n",
      "              precision    recall  f1-score   support\n",
      "\n",
      "           0       0.73      0.72      0.72      1976\n",
      "           1       0.73      0.74      0.73      2006\n",
      "\n",
      "    accuracy                           0.73      3982\n",
      "   macro avg       0.73      0.73      0.73      3982\n",
      "weighted avg       0.73      0.73      0.73      3982\n",
      "\n"
     ]
    },
    {
     "data": {
      "image/png": "[encoded data removed]",
      "text/plain": [
       "<Figure size 640x480 with 2 Axes>"
      ]
     },
     "metadata": {},
     "output_type": "display_data"
    }
   ],
   "source": [
    "import numpy as np\n",
    "from sklearn.metrics import confusion_matrix, ConfusionMatrixDisplay\n",
    "import matplotlib.pyplot as plt\n",
    "\n",
    "# Evaluate the model\n",
    "accuracy = accuracy_score(y_test, y_pred)\n",
    "report = classification_report(y_test, y_pred)\n",
    "conf_matrix = confusion_matrix(y_test, y_pred)\n",
    "\n",
    "# Print the results including training and prediction times\n",
    "print(f\"Training Time: {training_time:.2f} seconds\")\n",
    "print(f\"Prediction Time: {prediction_time:.2f} seconds\")\n",
    "print(f\"Accuracy: {accuracy}\")\n",
    "print(\"Classification Report:\")\n",
    "print(report)\n",
    "\n",
    "# Normalize the confusion matrix to display percentages\n",
    "conf_matrix_norm = conf_matrix.astype('float') / conf_matrix.sum(axis=1)[:, np.newaxis] * 100\n",
    "\n",
    "# Plot the confusion matrix using ConfusionMatrixDisplay\n",
    "disp = ConfusionMatrixDisplay(confusion_matrix=conf_matrix_norm, display_labels=model.classes_)\n",
    "\n",
    "# Display the confusion matrix\n",
    "disp.plot()\n",
    "plt.xlabel('Predicted')\n",
    "plt.ylabel('True')\n",
    "plt.title('Confusion Matrix (in %)')\n",
    "\n",
    "# Save the plot as an image (e.g., PNG)\n",
    "plt.savefig('../imgs/confusion_matrix_plot.png')\n",
    "mlflow.log_artifact('../imgs/confusion_matrix_plot.png')\n",
    "\n",
    "# Show the plot\n",
    "plt.show()\n"
   ]
  },
  {
   "cell_type": "code",
   "execution_count": 75,
   "id": "907fee27-0ea7-4ee8-ba03-a2ec32f45365",
   "metadata": {},
   "outputs": [
    {
     "data": {
      "image/png": "[encoded data removed]",
      "text/plain": [
       "<Figure size 800x600 with 1 Axes>"
      ]
     },
     "metadata": {},
     "output_type": "display_data"
    }
   ],
   "source": [
    "from sklearn.metrics import roc_curve, roc_auc_score, auc\n",
    "import matplotlib.pyplot as plt\n",
    "\n",
    "# Make predictions on the test data\n",
    "y_pred_proba = model.predict_proba(X_test_tfidf)[:, 1]  # Probability of being positive class\n",
    "\n",
    "# Calculate ROC curve and AUC\n",
    "fpr, tpr, thresholds = roc_curve(y_test, y_pred_proba)\n",
    "roc_auc = auc(fpr, tpr)\n",
    "\n",
    "# Create the ROC AUC plot\n",
    "plt.figure(figsize=(8, 6))\n",
    "plt.plot(fpr, tpr, color='darkorange', lw=2, label=f'ROC curve (AUC = {roc_auc:.2f})')\n",
    "plt.plot([0, 1], [0, 1], color='navy', lw=2, linestyle='--')\n",
    "plt.xlim([0.0, 1.0])\n",
    "plt.ylim([0.0, 1.05])\n",
    "plt.xlabel('False Positive Rate')\n",
    "plt.ylabel('True Positive Rate')\n",
    "plt.title('Receiver Operating Characteristic (ROC) Curve')\n",
    "plt.legend(loc=\"lower right\")\n",
    "# Save the plot as an image (e.g., PNG)\n",
    "plt.savefig('../imgs/roc_auc_plot.png')\n",
    "mlflow.log_artifact('../imgs/roc_auc_plot.png')\n",
    "\n",
    "plt.show()\n"
   ]
  },
  {
   "cell_type": "code",
   "execution_count": 76,
   "id": "abc501ab-3072-48a1-a613-bdf7e56ea38d",
   "metadata": {},
   "outputs": [],
   "source": [
    "# Track your experiment with MLflow\n",
    "mlflow.log_metrics({'accuracy': accuracy})\n",
    "mlflow.log_metrics({'roc_auc': roc_auc})"
   ]
  },
  {
   "cell_type": "code",
   "execution_count": 77,
   "id": "0a7ec7fa-053e-4411-ae43-ded5bde4b942",
   "metadata": {},
   "outputs": [],
   "source": [
    "# Log hyperparameters\n",
    "mlflow.log_params({'C': model.C, 'penalty': model.penalty, 'max_iter': model.max_iter, 'n_jobs': model.n_jobs})"
   ]
  },
  {
   "cell_type": "code",
   "execution_count": 78,
   "id": "4083a154-1344-46f1-b9f3-f17d233b559e",
   "metadata": {},
   "outputs": [],
   "source": [
    "# Save the model to a file\n",
    "mlflow.log_artifact('../models/logistic_model.pkl')"
   ]
  },
  {
   "cell_type": "code",
   "execution_count": 79,
   "id": "09ed94c1-8b91-4840-a14d-fb7e6e642be4",
   "metadata": {},
   "outputs": [],
   "source": [
    "mlflow.end_run()"
   ]
  },
  {
   "cell_type": "code",
   "execution_count": 57,
   "id": "b18f4be2-24d2-4320-ba3b-3ee0d8ff2181",
   "metadata": {},
   "outputs": [
    {
     "name": "stdout",
     "output_type": "stream",
     "text": [
      "/Users/drainasr-edine/github/ingenieur_ia/P7_drai_nasr-edine_app/.venv2/lib/python3.10/site-packages/pydantic/_internal/_fields.py:128: UserWarning: Field \"model_server_url\" has conflict with protected namespace \"model_\".\n",
      "\n",
      "You may be able to resolve this warning by setting `model_config['protected_namespaces'] = ()`.\n",
      "  warnings.warn(\n",
      "/Users/drainasr-edine/github/ingenieur_ia/P7_drai_nasr-edine_app/.venv2/lib/python3.10/site-packages/pydantic/_internal/_config.py:317: UserWarning: Valid config keys have changed in V2:\n",
      "* 'schema_extra' has been renamed to 'json_schema_extra'\n",
      "  warnings.warn(message, UserWarning)\n",
      "[2023-10-04 11:46:24 +0200] [5049] [INFO] Starting gunicorn 21.2.0\n",
      "[2023-10-04 11:46:24 +0200] [5049] [INFO] Listening at: http://127.0.0.1:5000 (5049)\n",
      "[2023-10-04 11:46:24 +0200] [5049] [INFO] Using worker: sync\n",
      "[2023-10-04 11:46:24 +0200] [5050] [INFO] Booting worker with pid: 5050\n",
      "[2023-10-04 11:46:24 +0200] [5051] [INFO] Booting worker with pid: 5051\n",
      "[2023-10-04 11:46:24 +0200] [5052] [INFO] Booting worker with pid: 5052\n",
      "[2023-10-04 11:46:24 +0200] [5053] [INFO] Booting worker with pid: 5053\n",
      "/Users/drainasr-edine/github/ingenieur_ia/P7_drai_nasr-edine_app/.venv2/lib/python3.10/site-packages/pydantic/_internal/_fields.py:128: UserWarning: Field \"model_server_url\" has conflict with protected namespace \"model_\".\n",
      "\n",
      "You may be able to resolve this warning by setting `model_config['protected_namespaces'] = ()`.\n",
      "  warnings.warn(\n",
      "/Users/drainasr-edine/github/ingenieur_ia/P7_drai_nasr-edine_app/.venv2/lib/python3.10/site-packages/pydantic/_internal/_config.py:317: UserWarning: Valid config keys have changed in V2:\n",
      "* 'schema_extra' has been renamed to 'json_schema_extra'\n",
      "  warnings.warn(message, UserWarning)\n",
      "/Users/drainasr-edine/github/ingenieur_ia/P7_drai_nasr-edine_app/.venv2/lib/python3.10/site-packages/pydantic/_internal/_fields.py:128: UserWarning: Field \"model_server_url\" has conflict with protected namespace \"model_\".\n",
      "\n",
      "You may be able to resolve this warning by setting `model_config['protected_namespaces'] = ()`.\n",
      "  warnings.warn(\n",
      "/Users/drainasr-edine/github/ingenieur_ia/P7_drai_nasr-edine_app/.venv2/lib/python3.10/site-packages/pydantic/_internal/_config.py:317: UserWarning: Valid config keys have changed in V2:\n",
      "* 'schema_extra' has been renamed to 'json_schema_extra'\n",
      "  warnings.warn(message, UserWarning)\n",
      "/Users/drainasr-edine/github/ingenieur_ia/P7_drai_nasr-edine_app/.venv2/lib/python3.10/site-packages/pydantic/_internal/_fields.py:128: UserWarning: Field \"model_server_url\" has conflict with protected namespace \"model_\".\n",
      "\n",
      "You may be able to resolve this warning by setting `model_config['protected_namespaces'] = ()`.\n",
      "  warnings.warn(\n",
      "/Users/drainasr-edine/github/ingenieur_ia/P7_drai_nasr-edine_app/.venv2/lib/python3.10/site-packages/pydantic/_internal/_fields.py:128: UserWarning: Field \"model_server_url\" has conflict with protected namespace \"model_\".\n",
      "\n",
      "You may be able to resolve this warning by setting `model_config['protected_namespaces'] = ()`.\n",
      "  warnings.warn(\n",
      "/Users/drainasr-edine/github/ingenieur_ia/P7_drai_nasr-edine_app/.venv2/lib/python3.10/site-packages/pydantic/_internal/_config.py:317: UserWarning: Valid config keys have changed in V2:\n",
      "* 'schema_extra' has been renamed to 'json_schema_extra'\n",
      "  warnings.warn(message, UserWarning)\n",
      "/Users/drainasr-edine/github/ingenieur_ia/P7_drai_nasr-edine_app/.venv2/lib/python3.10/site-packages/pydantic/_internal/_config.py:317: UserWarning: Valid config keys have changed in V2:\n",
      "* 'schema_extra' has been renamed to 'json_schema_extra'\n",
      "  warnings.warn(message, UserWarning)\n",
      "^C\n",
      "[2023-10-04 12:55:52 +0200] [5049] [INFO] Handling signal: int\n",
      "[2023-10-04 12:55:52 +0200] [5053] [INFO] Worker exiting (pid: 5053)\n",
      "[2023-10-04 12:55:52 +0200] [5050] [INFO] Worker exiting (pid: 5050)\n",
      "[2023-10-04 12:55:52 +0200] [5051] [INFO] Worker exiting (pid: 5051)\n",
      "[2023-10-04 12:55:52 +0200] [5052] [INFO] Worker exiting (pid: 5052)\n"
     ]
    }
   ],
   "source": [
    "# !mlflow server\n",
    "!mlflow ui"
   ]
  }
 ],
 "metadata": {
  "kernelspec": {
   "display_name": "Python 3 (ipykernel)",
   "language": "python",
   "name": "python3"
  },
  "language_info": {
   "codemirror_mode": {
    "name": "ipython",
    "version": 3
   },
   "file_extension": ".py",
   "mimetype": "text/x-python",
   "name": "python",
   "nbconvert_exporter": "python",
   "pygments_lexer": "ipython3",
   "version": "3.10.1"
  }
 },
 "nbformat": 4,
 "nbformat_minor": 5
}
